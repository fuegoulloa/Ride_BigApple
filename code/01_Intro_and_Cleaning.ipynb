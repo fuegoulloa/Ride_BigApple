{
 "cells": [
  {
   "cell_type": "markdown",
   "id": "4c262157-a2e9-4269-9d7e-f3f675e68791",
   "metadata": {},
   "source": [
    "<div style = 'text-align: center;'>\n",
    "    <img src = '../images/ga_logo_large.png'>\n",
    "</div>"
   ]
  },
  {
   "cell_type": "markdown",
   "id": "5abc6845-5654-4ac1-b306-2c678d10ddfa",
   "metadata": {},
   "source": [
    "---\n",
    "## **Capstone Project: Ride BigApple** 🚖🍎"
   ]
  },
  {
   "cell_type": "markdown",
   "id": "f9bcb0c1-57d8-4296-93be-07533cff93fa",
   "metadata": {},
   "source": [
    "------\n",
    "#### **Problem Statement**\n",
    "Can yellow cab fares be predicted within New York City's five boroughs based on time of the day, time of the year and certain high passenger areas?<br>\n",
    "The aim here is to use existing historical data of NYC cab rides spanning several years and building a model that can be integrated into a simple app to request a taxi ride and predict the expected fare and distance for the passenger."
   ]
  },
  {
   "cell_type": "markdown",
   "id": "2031e1aa-fb78-4d51-b9aa-542b022f99c8",
   "metadata": {},
   "source": [
    "----\n",
    "#### **Data**\n",
    "The original <a href = 'https://www.kaggle.com/c/new-york-city-taxi-fare-prediction'>dataset</a> contains 55.4 million rows and eight columns. Given the vast size of this dataset, only 60 thousand rows were randomly sampled.  This subset is labeled `nyc_taxidata_60k.csv`.  The original eight columns, in order, are: `key`, `fare_amount`, `pickup_datetime`, `pickup_longitude`, `pickup_latitude`, `dropoff_longitude`, `dropoff_latitude` and `passenger_count`.<br>\n",
    "Columns `key` and `pickup_datetime` contained the same information.  As part of the cleaning process, `pickup_datetime` was dropped and new columns were created from the `key` column.  Those are `year`, `month`, `day_of_week`, `hour`, and `minute`.  An additonal column, `geodesic_distance`, was created by calculating said distance between the pickup and dropoff coordinates for each record.<br>\n",
    "After the data cleaning process was completed, the following datasets were generated and saved:<br>\n",
    "**Cleaned up datasets**<br>\n",
    "* `taxi_clean_set_v1.csv`: This file has 53,353 rows and 13 columns.\n",
    "* `taxi_clean_set_v2.csv`: This file has 53,351 rows and 13 columns.\n",
    "* `taxi_clean_set_v3.csv`: This file has 53,351 rows and 36 columns, the additional 23 columns are mostly engineered features and auxiliary columns used to help create plots, as well as other features."
   ]
  },
  {
   "cell_type": "markdown",
   "id": "8adab67a-c63b-4dab-a975-cdb024389fb2",
   "metadata": {},
   "source": [
    "----\n",
    "#### **Consulted Sources**\n",
    "Some parts of this analysis rely on the outside sources listed below.  These were consulted to gain a better understanding into the factors that make up a metered yellow cab fare in NYC, as well as to learn more about information and stats published by local SMEs, including the the New York City Taxi and Limousine Commission (TLC).<br>\n",
    "* <a href = 'https://www.dylanhoffman.com/blog/2022/11/17/nyc-taxi-fares-to-increase-by-23-for-2023'>New York City Fares to Increase by 23% For 2023</a>\n",
    "* <a href = 'https://www.nbcnewyork.com/news/local/taxi-fare-hike-september-4-drivers-scheduled-inspections-mixed-fares/1956850/'>NYC Cab Fare Hike Takes Effect Tuesday</a>\n",
    "* <a href = 'https://web.archive.org/web/20181024231444/http://www.nyc.gov/html/tlc/downloads/pdf/2014_taxicab_fact_book.pdf'>2014 Taxicab Fact Book</a>"
   ]
  },
  {
   "cell_type": "markdown",
   "id": "30321888-f5ec-4d17-a155-cc6dfcc3842a",
   "metadata": {},
   "source": [
    "------\n",
    "#### **Data Import and Cleaning**"
   ]
  },
  {
   "cell_type": "code",
   "execution_count": 30,
   "id": "d83f77fc-29cf-4f5e-99b5-92595e3ad7f4",
   "metadata": {},
   "outputs": [],
   "source": [
    "# import personal library\n",
    "import importlib.util\n",
    "import sys\n",
    "\n",
    "path_to_library = '../scripts/personal_library.py'\n",
    "\n",
    "# load module\n",
    "spec = importlib.util.spec_from_file_location('personal_library', path_to_library)\n",
    "lu = importlib.util.module_from_spec(spec)\n",
    "sys.modules['personal_library'] = lu\n",
    "spec.loader.exec_module(lu)"
   ]
  },
  {
   "cell_type": "code",
   "execution_count": 31,
   "id": "d2793f5f-7262-47dd-8b47-6783e342b6e0",
   "metadata": {},
   "outputs": [],
   "source": [
    "# modules needed for this notebook\n",
    "import pandas as pd\n",
    "import numpy as np\n",
    "import matplotlib.pyplot as plt\n",
    "import seaborn as sns"
   ]
  },
  {
   "cell_type": "code",
   "execution_count": 6,
   "id": "f637f3ce-c39b-407e-bd68-7316401d79ed",
   "metadata": {},
   "outputs": [
    {
     "data": {
      "text/plain": [
       "(60000, 8)"
      ]
     },
     "execution_count": 6,
     "metadata": {},
     "output_type": "execute_result"
    }
   ],
   "source": [
    "# read in file\n",
    "file_path = '../data/nyc_taxidata_60k.csv'\n",
    "\n",
    "taxi = pd.read_csv(file_path)\n",
    "taxi.shape"
   ]
  },
  {
   "cell_type": "code",
   "execution_count": 7,
   "id": "465198e6-c155-4149-95ad-7678537c930f",
   "metadata": {},
   "outputs": [
    {
     "data": {
      "text/html": [
       "<div>\n",
       "<style scoped>\n",
       "    .dataframe tbody tr th:only-of-type {\n",
       "        vertical-align: middle;\n",
       "    }\n",
       "\n",
       "    .dataframe tbody tr th {\n",
       "        vertical-align: top;\n",
       "    }\n",
       "\n",
       "    .dataframe thead th {\n",
       "        text-align: right;\n",
       "    }\n",
       "</style>\n",
       "<table border=\"1\" class=\"dataframe\">\n",
       "  <thead>\n",
       "    <tr style=\"text-align: right;\">\n",
       "      <th></th>\n",
       "      <th>key</th>\n",
       "      <th>fare_amount</th>\n",
       "      <th>pickup_datetime</th>\n",
       "      <th>pickup_longitude</th>\n",
       "      <th>pickup_latitude</th>\n",
       "      <th>dropoff_longitude</th>\n",
       "      <th>dropoff_latitude</th>\n",
       "      <th>passenger_count</th>\n",
       "    </tr>\n",
       "  </thead>\n",
       "  <tbody>\n",
       "    <tr>\n",
       "      <th>0</th>\n",
       "      <td>2010-10-31 03:32:00.000000130</td>\n",
       "      <td>3.7</td>\n",
       "      <td>2010-10-31 03:32:00 UTC</td>\n",
       "      <td>-73.982163</td>\n",
       "      <td>40.762762</td>\n",
       "      <td>-73.987518</td>\n",
       "      <td>40.760543</td>\n",
       "      <td>1</td>\n",
       "    </tr>\n",
       "    <tr>\n",
       "      <th>1</th>\n",
       "      <td>2014-11-20 22:50:22.0000002</td>\n",
       "      <td>14.5</td>\n",
       "      <td>2014-11-20 22:50:22 UTC</td>\n",
       "      <td>-73.995560</td>\n",
       "      <td>40.759405</td>\n",
       "      <td>-73.968201</td>\n",
       "      <td>40.804051</td>\n",
       "      <td>1</td>\n",
       "    </tr>\n",
       "    <tr>\n",
       "      <th>2</th>\n",
       "      <td>2010-01-26 19:27:55.0000002</td>\n",
       "      <td>11.7</td>\n",
       "      <td>2010-01-26 19:27:55 UTC</td>\n",
       "      <td>-74.001313</td>\n",
       "      <td>40.736943</td>\n",
       "      <td>-73.994137</td>\n",
       "      <td>40.699002</td>\n",
       "      <td>1</td>\n",
       "    </tr>\n",
       "    <tr>\n",
       "      <th>3</th>\n",
       "      <td>2010-03-22 19:00:00.000000191</td>\n",
       "      <td>4.5</td>\n",
       "      <td>2010-03-22 19:00:00 UTC</td>\n",
       "      <td>-74.005897</td>\n",
       "      <td>40.770640</td>\n",
       "      <td>-74.008753</td>\n",
       "      <td>40.769735</td>\n",
       "      <td>1</td>\n",
       "    </tr>\n",
       "    <tr>\n",
       "      <th>4</th>\n",
       "      <td>2011-02-26 08:57:11.0000002</td>\n",
       "      <td>4.9</td>\n",
       "      <td>2011-02-26 08:57:11 UTC</td>\n",
       "      <td>-73.984917</td>\n",
       "      <td>40.749153</td>\n",
       "      <td>-74.000801</td>\n",
       "      <td>40.757591</td>\n",
       "      <td>1</td>\n",
       "    </tr>\n",
       "  </tbody>\n",
       "</table>\n",
       "</div>"
      ],
      "text/plain": [
       "                             key  fare_amount          pickup_datetime  \\\n",
       "0  2010-10-31 03:32:00.000000130          3.7  2010-10-31 03:32:00 UTC   \n",
       "1    2014-11-20 22:50:22.0000002         14.5  2014-11-20 22:50:22 UTC   \n",
       "2    2010-01-26 19:27:55.0000002         11.7  2010-01-26 19:27:55 UTC   \n",
       "3  2010-03-22 19:00:00.000000191          4.5  2010-03-22 19:00:00 UTC   \n",
       "4    2011-02-26 08:57:11.0000002          4.9  2011-02-26 08:57:11 UTC   \n",
       "\n",
       "   pickup_longitude  pickup_latitude  dropoff_longitude  dropoff_latitude  \\\n",
       "0        -73.982163        40.762762         -73.987518         40.760543   \n",
       "1        -73.995560        40.759405         -73.968201         40.804051   \n",
       "2        -74.001313        40.736943         -73.994137         40.699002   \n",
       "3        -74.005897        40.770640         -74.008753         40.769735   \n",
       "4        -73.984917        40.749153         -74.000801         40.757591   \n",
       "\n",
       "   passenger_count  \n",
       "0                1  \n",
       "1                1  \n",
       "2                1  \n",
       "3                1  \n",
       "4                1  "
      ]
     },
     "execution_count": 7,
     "metadata": {},
     "output_type": "execute_result"
    }
   ],
   "source": [
    "taxi.head()"
   ]
  },
  {
   "cell_type": "markdown",
   "id": "25d79274-073a-4e4b-89ef-d9f614966749",
   "metadata": {},
   "source": [
    "The `key` column may later be used as a time index. The first few rows match the information listed in the `pickup_datetime` column. It makes sense to sort by the column and check again at the start and tail end of the dataset to confirm."
   ]
  },
  {
   "cell_type": "code",
   "execution_count": 9,
   "id": "8d1bd714-3959-4355-85a8-80355a24eabc",
   "metadata": {},
   "outputs": [
    {
     "data": {
      "text/html": [
       "<div>\n",
       "<style scoped>\n",
       "    .dataframe tbody tr th:only-of-type {\n",
       "        vertical-align: middle;\n",
       "    }\n",
       "\n",
       "    .dataframe tbody tr th {\n",
       "        vertical-align: top;\n",
       "    }\n",
       "\n",
       "    .dataframe thead th {\n",
       "        text-align: right;\n",
       "    }\n",
       "</style>\n",
       "<table border=\"1\" class=\"dataframe\">\n",
       "  <thead>\n",
       "    <tr style=\"text-align: right;\">\n",
       "      <th></th>\n",
       "      <th>key</th>\n",
       "      <th>fare_amount</th>\n",
       "      <th>pickup_datetime</th>\n",
       "      <th>pickup_longitude</th>\n",
       "      <th>pickup_latitude</th>\n",
       "      <th>dropoff_longitude</th>\n",
       "      <th>dropoff_latitude</th>\n",
       "      <th>passenger_count</th>\n",
       "    </tr>\n",
       "  </thead>\n",
       "  <tbody>\n",
       "    <tr>\n",
       "      <th>37279</th>\n",
       "      <td>2009-01-01 00:48:11.0000002</td>\n",
       "      <td>11.0</td>\n",
       "      <td>2009-01-01 00:48:11 UTC</td>\n",
       "      <td>-73.993578</td>\n",
       "      <td>40.721298</td>\n",
       "      <td>-73.967109</td>\n",
       "      <td>40.756657</td>\n",
       "      <td>4</td>\n",
       "    </tr>\n",
       "    <tr>\n",
       "      <th>24037</th>\n",
       "      <td>2009-01-01 00:54:13.0000001</td>\n",
       "      <td>12.2</td>\n",
       "      <td>2009-01-01 00:54:13 UTC</td>\n",
       "      <td>-73.985358</td>\n",
       "      <td>40.744602</td>\n",
       "      <td>-73.956073</td>\n",
       "      <td>40.778083</td>\n",
       "      <td>2</td>\n",
       "    </tr>\n",
       "    <tr>\n",
       "      <th>46429</th>\n",
       "      <td>2009-01-01 01:07:13.0000001</td>\n",
       "      <td>5.4</td>\n",
       "      <td>2009-01-01 01:07:13 UTC</td>\n",
       "      <td>-73.978859</td>\n",
       "      <td>40.750516</td>\n",
       "      <td>-73.968175</td>\n",
       "      <td>40.758468</td>\n",
       "      <td>1</td>\n",
       "    </tr>\n",
       "    <tr>\n",
       "      <th>30480</th>\n",
       "      <td>2009-01-01 01:12:02.0000001</td>\n",
       "      <td>11.0</td>\n",
       "      <td>2009-01-01 01:12:02 UTC</td>\n",
       "      <td>-73.987317</td>\n",
       "      <td>40.768627</td>\n",
       "      <td>-74.007565</td>\n",
       "      <td>40.740797</td>\n",
       "      <td>1</td>\n",
       "    </tr>\n",
       "    <tr>\n",
       "      <th>45530</th>\n",
       "      <td>2009-01-01 04:34:56.0000001</td>\n",
       "      <td>8.2</td>\n",
       "      <td>2009-01-01 04:34:56 UTC</td>\n",
       "      <td>-73.988965</td>\n",
       "      <td>40.736905</td>\n",
       "      <td>-74.001923</td>\n",
       "      <td>40.747579</td>\n",
       "      <td>1</td>\n",
       "    </tr>\n",
       "  </tbody>\n",
       "</table>\n",
       "</div>"
      ],
      "text/plain": [
       "                               key  fare_amount          pickup_datetime  \\\n",
       "37279  2009-01-01 00:48:11.0000002         11.0  2009-01-01 00:48:11 UTC   \n",
       "24037  2009-01-01 00:54:13.0000001         12.2  2009-01-01 00:54:13 UTC   \n",
       "46429  2009-01-01 01:07:13.0000001          5.4  2009-01-01 01:07:13 UTC   \n",
       "30480  2009-01-01 01:12:02.0000001         11.0  2009-01-01 01:12:02 UTC   \n",
       "45530  2009-01-01 04:34:56.0000001          8.2  2009-01-01 04:34:56 UTC   \n",
       "\n",
       "       pickup_longitude  pickup_latitude  dropoff_longitude  dropoff_latitude  \\\n",
       "37279        -73.993578        40.721298         -73.967109         40.756657   \n",
       "24037        -73.985358        40.744602         -73.956073         40.778083   \n",
       "46429        -73.978859        40.750516         -73.968175         40.758468   \n",
       "30480        -73.987317        40.768627         -74.007565         40.740797   \n",
       "45530        -73.988965        40.736905         -74.001923         40.747579   \n",
       "\n",
       "       passenger_count  \n",
       "37279                4  \n",
       "24037                2  \n",
       "46429                1  \n",
       "30480                1  \n",
       "45530                1  "
      ]
     },
     "execution_count": 9,
     "metadata": {},
     "output_type": "execute_result"
    }
   ],
   "source": [
    "# earliest rides\n",
    "taxi.sort_values(by = 'key').head()"
   ]
  },
  {
   "cell_type": "code",
   "execution_count": 10,
   "id": "12f705ea-58c4-4672-8a7e-6e193dc7f650",
   "metadata": {},
   "outputs": [
    {
     "data": {
      "text/html": [
       "<div>\n",
       "<style scoped>\n",
       "    .dataframe tbody tr th:only-of-type {\n",
       "        vertical-align: middle;\n",
       "    }\n",
       "\n",
       "    .dataframe tbody tr th {\n",
       "        vertical-align: top;\n",
       "    }\n",
       "\n",
       "    .dataframe thead th {\n",
       "        text-align: right;\n",
       "    }\n",
       "</style>\n",
       "<table border=\"1\" class=\"dataframe\">\n",
       "  <thead>\n",
       "    <tr style=\"text-align: right;\">\n",
       "      <th></th>\n",
       "      <th>key</th>\n",
       "      <th>fare_amount</th>\n",
       "      <th>pickup_datetime</th>\n",
       "      <th>pickup_longitude</th>\n",
       "      <th>pickup_latitude</th>\n",
       "      <th>dropoff_longitude</th>\n",
       "      <th>dropoff_latitude</th>\n",
       "      <th>passenger_count</th>\n",
       "    </tr>\n",
       "  </thead>\n",
       "  <tbody>\n",
       "    <tr>\n",
       "      <th>25935</th>\n",
       "      <td>2015-06-30 14:42:23.0000004</td>\n",
       "      <td>4.0</td>\n",
       "      <td>2015-06-30 14:42:23 UTC</td>\n",
       "      <td>-73.952606</td>\n",
       "      <td>40.778427</td>\n",
       "      <td>-73.949661</td>\n",
       "      <td>40.772446</td>\n",
       "      <td>4</td>\n",
       "    </tr>\n",
       "    <tr>\n",
       "      <th>25402</th>\n",
       "      <td>2015-06-30 15:32:34.0000004</td>\n",
       "      <td>5.0</td>\n",
       "      <td>2015-06-30 15:32:34 UTC</td>\n",
       "      <td>-73.954971</td>\n",
       "      <td>40.788841</td>\n",
       "      <td>-73.954407</td>\n",
       "      <td>40.778969</td>\n",
       "      <td>1</td>\n",
       "    </tr>\n",
       "    <tr>\n",
       "      <th>43154</th>\n",
       "      <td>2015-06-30 18:46:26.0000001</td>\n",
       "      <td>11.5</td>\n",
       "      <td>2015-06-30 18:46:26 UTC</td>\n",
       "      <td>-73.975121</td>\n",
       "      <td>40.755234</td>\n",
       "      <td>-73.978989</td>\n",
       "      <td>40.763821</td>\n",
       "      <td>1</td>\n",
       "    </tr>\n",
       "    <tr>\n",
       "      <th>55460</th>\n",
       "      <td>2015-06-30 18:58:55.0000009</td>\n",
       "      <td>14.5</td>\n",
       "      <td>2015-06-30 18:58:55 UTC</td>\n",
       "      <td>-73.955399</td>\n",
       "      <td>40.768505</td>\n",
       "      <td>-73.984917</td>\n",
       "      <td>40.726761</td>\n",
       "      <td>1</td>\n",
       "    </tr>\n",
       "    <tr>\n",
       "      <th>31487</th>\n",
       "      <td>2015-06-30 19:43:39.0000008</td>\n",
       "      <td>10.0</td>\n",
       "      <td>2015-06-30 19:43:39 UTC</td>\n",
       "      <td>-73.991318</td>\n",
       "      <td>40.742397</td>\n",
       "      <td>-73.992409</td>\n",
       "      <td>40.767353</td>\n",
       "      <td>1</td>\n",
       "    </tr>\n",
       "  </tbody>\n",
       "</table>\n",
       "</div>"
      ],
      "text/plain": [
       "                               key  fare_amount          pickup_datetime  \\\n",
       "25935  2015-06-30 14:42:23.0000004          4.0  2015-06-30 14:42:23 UTC   \n",
       "25402  2015-06-30 15:32:34.0000004          5.0  2015-06-30 15:32:34 UTC   \n",
       "43154  2015-06-30 18:46:26.0000001         11.5  2015-06-30 18:46:26 UTC   \n",
       "55460  2015-06-30 18:58:55.0000009         14.5  2015-06-30 18:58:55 UTC   \n",
       "31487  2015-06-30 19:43:39.0000008         10.0  2015-06-30 19:43:39 UTC   \n",
       "\n",
       "       pickup_longitude  pickup_latitude  dropoff_longitude  dropoff_latitude  \\\n",
       "25935        -73.952606        40.778427         -73.949661         40.772446   \n",
       "25402        -73.954971        40.788841         -73.954407         40.778969   \n",
       "43154        -73.975121        40.755234         -73.978989         40.763821   \n",
       "55460        -73.955399        40.768505         -73.984917         40.726761   \n",
       "31487        -73.991318        40.742397         -73.992409         40.767353   \n",
       "\n",
       "       passenger_count  \n",
       "25935                4  \n",
       "25402                1  \n",
       "43154                1  \n",
       "55460                1  \n",
       "31487                1  "
      ]
     },
     "execution_count": 10,
     "metadata": {},
     "output_type": "execute_result"
    }
   ],
   "source": [
    "# most recent rides\n",
    "taxi.sort_values(by = 'key').tail()"
   ]
  },
  {
   "cell_type": "markdown",
   "id": "0cdc8290-4a0c-4410-ae68-d73c98ed3b65",
   "metadata": {},
   "source": [
    "Indeed, the `key` and `pickup_datetime` columns contain the same information, for the sake of simplicity, drop the latter."
   ]
  },
  {
   "cell_type": "code",
   "execution_count": 12,
   "id": "9d39d99f-ee65-468e-bc2c-40839e81a9ed",
   "metadata": {},
   "outputs": [
    {
     "data": {
      "text/html": [
       "<div>\n",
       "<style scoped>\n",
       "    .dataframe tbody tr th:only-of-type {\n",
       "        vertical-align: middle;\n",
       "    }\n",
       "\n",
       "    .dataframe tbody tr th {\n",
       "        vertical-align: top;\n",
       "    }\n",
       "\n",
       "    .dataframe thead th {\n",
       "        text-align: right;\n",
       "    }\n",
       "</style>\n",
       "<table border=\"1\" class=\"dataframe\">\n",
       "  <thead>\n",
       "    <tr style=\"text-align: right;\">\n",
       "      <th></th>\n",
       "      <th>key</th>\n",
       "      <th>fare_amount</th>\n",
       "      <th>pickup_longitude</th>\n",
       "      <th>pickup_latitude</th>\n",
       "      <th>dropoff_longitude</th>\n",
       "      <th>dropoff_latitude</th>\n",
       "      <th>passenger_count</th>\n",
       "    </tr>\n",
       "  </thead>\n",
       "  <tbody>\n",
       "    <tr>\n",
       "      <th>0</th>\n",
       "      <td>2010-10-31 03:32:00.000000130</td>\n",
       "      <td>3.7</td>\n",
       "      <td>-73.982163</td>\n",
       "      <td>40.762762</td>\n",
       "      <td>-73.987518</td>\n",
       "      <td>40.760543</td>\n",
       "      <td>1</td>\n",
       "    </tr>\n",
       "  </tbody>\n",
       "</table>\n",
       "</div>"
      ],
      "text/plain": [
       "                             key  fare_amount  pickup_longitude  \\\n",
       "0  2010-10-31 03:32:00.000000130          3.7        -73.982163   \n",
       "\n",
       "   pickup_latitude  dropoff_longitude  dropoff_latitude  passenger_count  \n",
       "0        40.762762         -73.987518         40.760543                1  "
      ]
     },
     "execution_count": 12,
     "metadata": {},
     "output_type": "execute_result"
    }
   ],
   "source": [
    "taxi.drop(columns = 'pickup_datetime', inplace = True)\n",
    "taxi.head(1)"
   ]
  },
  {
   "cell_type": "markdown",
   "id": "b2db428f-fb7e-4275-a5c1-aed7a4769f54",
   "metadata": {},
   "source": [
    "**Data Types**"
   ]
  },
  {
   "cell_type": "code",
   "execution_count": 16,
   "id": "a905f8da-ab3e-4c8f-8c2b-971c24db48a1",
   "metadata": {},
   "outputs": [
    {
     "data": {
      "text/plain": [
       "key                   object\n",
       "fare_amount          float64\n",
       "pickup_longitude     float64\n",
       "pickup_latitude      float64\n",
       "dropoff_longitude    float64\n",
       "dropoff_latitude     float64\n",
       "passenger_count        int64\n",
       "dtype: object"
      ]
     },
     "execution_count": 16,
     "metadata": {},
     "output_type": "execute_result"
    }
   ],
   "source": [
    "taxi.dtypes"
   ]
  },
  {
   "cell_type": "markdown",
   "id": "f4211136-182d-4352-bf1c-a0be2d99cefd",
   "metadata": {},
   "source": [
    "All data types look consistent with the columns except the `key` column.  Convert that column to a `datetime` object."
   ]
  },
  {
   "cell_type": "code",
   "execution_count": 22,
   "id": "c56b6086-1dc7-47a9-83cb-982600ca1124",
   "metadata": {},
   "outputs": [
    {
     "data": {
      "text/plain": [
       "key                  datetime64[ns]\n",
       "fare_amount                 float64\n",
       "pickup_longitude            float64\n",
       "pickup_latitude             float64\n",
       "dropoff_longitude           float64\n",
       "dropoff_latitude            float64\n",
       "passenger_count               int64\n",
       "dtype: object"
      ]
     },
     "execution_count": 22,
     "metadata": {},
     "output_type": "execute_result"
    }
   ],
   "source": [
    "taxi['key'] = pd.to_datetime(taxi['key'])\n",
    "# confirm\n",
    "taxi.dtypes"
   ]
  },
  {
   "cell_type": "markdown",
   "id": "0d864bcd-3e8e-4aca-be08-097325330f2b",
   "metadata": {},
   "source": [
    "Now that `key` is a `datetime` object, new columns can be created for specific date/time elements of interest.  Before doing that, though, more cleaning is needed."
   ]
  },
  {
   "cell_type": "markdown",
   "id": "03864c58-01ed-4ebc-a6ee-d207e0c68c02",
   "metadata": {},
   "source": [
    "**Null Values**"
   ]
  },
  {
   "cell_type": "code",
   "execution_count": 28,
   "id": "09c42cbf-fdfd-42cc-8a7f-1214186d2798",
   "metadata": {},
   "outputs": [
    {
     "data": {
      "text/plain": [
       "key                  0\n",
       "fare_amount          0\n",
       "pickup_longitude     0\n",
       "pickup_latitude      0\n",
       "dropoff_longitude    2\n",
       "dropoff_latitude     2\n",
       "passenger_count      0\n",
       "dtype: int64"
      ]
     },
     "execution_count": 28,
     "metadata": {},
     "output_type": "execute_result"
    }
   ],
   "source": [
    "taxi.isnull().sum()"
   ]
  },
  {
   "cell_type": "markdown",
   "id": "4113601d-20f9-4f9d-bfd2-cb6adb66cc45",
   "metadata": {},
   "source": [
    "There are just two missing values in this sample. They can be dropped."
   ]
  },
  {
   "cell_type": "code",
   "execution_count": 31,
   "id": "b16f0f19-4776-4034-b12d-0b6d9c7971e5",
   "metadata": {},
   "outputs": [
    {
     "name": "stdout",
     "output_type": "stream",
     "text": [
      "Before: (60000, 7)\n",
      "After: (59998, 7)\n"
     ]
    }
   ],
   "source": [
    "print(f'Before: {taxi.shape}')\n",
    "taxi.dropna(inplace = True)\n",
    "print(f'After: {taxi.shape}')"
   ]
  },
  {
   "cell_type": "markdown",
   "id": "7e7645dc-de25-41a7-a8bd-e6c8ea1696c5",
   "metadata": {},
   "source": [
    "---\n",
    "#### **Columns**"
   ]
  },
  {
   "cell_type": "markdown",
   "id": "45997585-727b-4e61-b8e0-93f1f37d9938",
   "metadata": {},
   "source": [
    "---\n",
    "**Column**: `fare_amount`"
   ]
  },
  {
   "cell_type": "code",
   "execution_count": 35,
   "id": "870be213-93f3-4baa-8d9d-c3568c0b68b3",
   "metadata": {},
   "outputs": [
    {
     "data": {
      "text/plain": [
       "count    59998.000000\n",
       "mean        11.324794\n",
       "std          9.858193\n",
       "min         -7.800000\n",
       "25%          6.000000\n",
       "50%          8.500000\n",
       "75%         12.500000\n",
       "max        377.750000\n",
       "Name: fare_amount, dtype: float64"
      ]
     },
     "execution_count": 35,
     "metadata": {},
     "output_type": "execute_result"
    }
   ],
   "source": [
    "# fare amout stats\n",
    "taxi['fare_amount'].describe()"
   ]
  },
  {
   "cell_type": "markdown",
   "id": "6bfa223f-0559-4de4-8cc4-5e2b8c230037",
   "metadata": {},
   "source": [
    "Having negative fares does not make sense. In fact, per consulted sources, the base <a href = 'https://www.nbcnewyork.com/news/local/taxi-fare-hike-september-4-drivers-scheduled-inspections-mixed-fares/1956850/'>fare</a> for NYC taxis is 2.50 dollars. This was as of Sept. 04, 2012 (rides in dataset span from 2009 thru 2015). For the sake of simplicity, stick to this value.<br>\n",
    "Check the number of records with fares below that threshold and drop."
   ]
  },
  {
   "cell_type": "code",
   "execution_count": 38,
   "id": "45bbc093-e8d4-455e-9dc5-09c534e03f76",
   "metadata": {},
   "outputs": [
    {
     "name": "stdout",
     "output_type": "stream",
     "text": [
      "Rows with fares under $2.50: 4\n"
     ]
    }
   ],
   "source": [
    "print(f\"Rows with fares under $2.50: {taxi[taxi['fare_amount'] < 2.50].shape[0]}\")"
   ]
  },
  {
   "cell_type": "markdown",
   "id": "cf672b74-4a6c-48c9-80dd-879694249752",
   "metadata": {},
   "source": [
    "Just four records, drop them from the dataset."
   ]
  },
  {
   "cell_type": "code",
   "execution_count": 41,
   "id": "f7d48943-7627-410f-bcae-a3a047c46a19",
   "metadata": {},
   "outputs": [
    {
     "name": "stdout",
     "output_type": "stream",
     "text": [
      "Before: (59998, 7)\n",
      "After: (59994, 7)\n"
     ]
    }
   ],
   "source": [
    "print(f'Before: {taxi.shape}')\n",
    "taxi.drop(index = taxi[taxi['fare_amount'] < 2.50].index, inplace = True)\n",
    "taxi.reset_index(drop = True, inplace = True)\n",
    "print(f'After: {taxi.shape}')"
   ]
  },
  {
   "cell_type": "code",
   "execution_count": 43,
   "id": "7f4e6691-5f7b-4edd-9e42-c73bd888199d",
   "metadata": {},
   "outputs": [
    {
     "data": {
      "text/plain": [
       "count    59994.000000\n",
       "mean        11.325900\n",
       "std          9.857571\n",
       "min          2.500000\n",
       "25%          6.000000\n",
       "50%          8.500000\n",
       "75%         12.500000\n",
       "max        377.750000\n",
       "Name: fare_amount, dtype: float64"
      ]
     },
     "execution_count": 43,
     "metadata": {},
     "output_type": "execute_result"
    }
   ],
   "source": [
    "# check fare stats again\n",
    "taxi['fare_amount'].describe()"
   ]
  },
  {
   "cell_type": "markdown",
   "id": "dcdabe58-12b2-4861-9b6c-70ee28642a6d",
   "metadata": {},
   "source": [
    "The figures make sense up to the 3rd quartile.  The max, though is 377.75 dollars.  Check the stats for records above 12.50."
   ]
  },
  {
   "cell_type": "code",
   "execution_count": 46,
   "id": "69b310b0-d8a8-4dce-bbc8-38c49f37efef",
   "metadata": {},
   "outputs": [
    {
     "data": {
      "text/plain": [
       "count    14711.000000\n",
       "mean        23.437054\n",
       "std         13.556688\n",
       "min         12.600000\n",
       "25%         14.900000\n",
       "50%         18.100000\n",
       "75%         27.300000\n",
       "max        377.750000\n",
       "Name: fare_amount, dtype: float64"
      ]
     },
     "execution_count": 46,
     "metadata": {},
     "output_type": "execute_result"
    }
   ],
   "source": [
    "taxi[taxi['fare_amount'] > 12.50]['fare_amount'].describe()"
   ]
  },
  {
   "cell_type": "markdown",
   "id": "82e37063-087c-48d3-941e-c82643396ca5",
   "metadata": {},
   "source": [
    "Visualize this subset's distribution to get a better understanding on the outliers."
   ]
  },
  {
   "cell_type": "code",
   "execution_count": 49,
   "id": "472ef0a3-17c6-46db-982d-a21184accd81",
   "metadata": {},
   "outputs": [
    {
     "data": {
      "image/png": "[encoded data removed]",
      "text/plain": [
       "<Figure size 1600x600 with 2 Axes>"
      ]
     },
     "metadata": {},
     "output_type": "display_data"
    }
   ],
   "source": [
    "lu.plot_hist_box(taxi[taxi['fare_amount'] > 12.50], col_name = 'fare_amount')\n",
    "plt.savefig('../images/hist_boxplot_fares_over_12_50.png')"
   ]
  },
  {
   "cell_type": "markdown",
   "id": "7633a541-c4be-4cc3-8430-d6d81a07d066",
   "metadata": {},
   "source": [
    "All the outliers are above 50 dollars.  For NYC, based on consulted sources and experience, a cab drive can exceed 50 dollars (flat rate between Manhattan and JFK as of time of dataset was 52 dollars), or if it's unusually long (i.e. from Lower Manhattan to the farthest corners of the outer boroughs).  However, given the size of this dataset (59,994 rows at this juncture of the cleanup process) having just a few outliers above 150 dollars warrants a quick look to see if those fares are realistic or not."
   ]
  },
  {
   "cell_type": "code",
   "execution_count": 34,
   "id": "600f92fd-988e-40fc-96a7-5fce382d2b04",
   "metadata": {},
   "outputs": [
    {
     "data": {
      "text/html": [
       "<div>\n",
       "<style scoped>\n",
       "    .dataframe tbody tr th:only-of-type {\n",
       "        vertical-align: middle;\n",
       "    }\n",
       "\n",
       "    .dataframe tbody tr th {\n",
       "        vertical-align: top;\n",
       "    }\n",
       "\n",
       "    .dataframe thead th {\n",
       "        text-align: right;\n",
       "    }\n",
       "</style>\n",
       "<table border=\"1\" class=\"dataframe\">\n",
       "  <thead>\n",
       "    <tr style=\"text-align: right;\">\n",
       "      <th></th>\n",
       "      <th>key</th>\n",
       "      <th>fare_amount</th>\n",
       "      <th>pickup_longitude</th>\n",
       "      <th>pickup_latitude</th>\n",
       "      <th>dropoff_longitude</th>\n",
       "      <th>dropoff_latitude</th>\n",
       "      <th>passenger_count</th>\n",
       "    </tr>\n",
       "  </thead>\n",
       "  <tbody>\n",
       "    <tr>\n",
       "      <th>921</th>\n",
       "      <td>2014-04-24 12:19:35.000000300</td>\n",
       "      <td>160.00</td>\n",
       "      <td>-74.185481</td>\n",
       "      <td>40.698439</td>\n",
       "      <td>-74.187104</td>\n",
       "      <td>40.693440</td>\n",
       "      <td>2</td>\n",
       "    </tr>\n",
       "    <tr>\n",
       "      <th>1129</th>\n",
       "      <td>2014-10-27 11:16:00.000000105</td>\n",
       "      <td>184.00</td>\n",
       "      <td>-73.541077</td>\n",
       "      <td>41.113127</td>\n",
       "      <td>0.000000</td>\n",
       "      <td>0.000000</td>\n",
       "      <td>1</td>\n",
       "    </tr>\n",
       "    <tr>\n",
       "      <th>4219</th>\n",
       "      <td>2011-08-08 12:42:00.000000440</td>\n",
       "      <td>250.00</td>\n",
       "      <td>-74.184712</td>\n",
       "      <td>40.564758</td>\n",
       "      <td>-74.184712</td>\n",
       "      <td>40.564758</td>\n",
       "      <td>1</td>\n",
       "    </tr>\n",
       "    <tr>\n",
       "      <th>9260</th>\n",
       "      <td>2014-06-05 23:30:09.000000200</td>\n",
       "      <td>185.00</td>\n",
       "      <td>-74.375056</td>\n",
       "      <td>40.737231</td>\n",
       "      <td>-74.375023</td>\n",
       "      <td>40.737228</td>\n",
       "      <td>1</td>\n",
       "    </tr>\n",
       "    <tr>\n",
       "      <th>37962</th>\n",
       "      <td>2014-12-11 22:12:00.000000204</td>\n",
       "      <td>164.50</td>\n",
       "      <td>-73.992857</td>\n",
       "      <td>40.758077</td>\n",
       "      <td>-74.191497</td>\n",
       "      <td>40.813237</td>\n",
       "      <td>1</td>\n",
       "    </tr>\n",
       "    <tr>\n",
       "      <th>38634</th>\n",
       "      <td>2013-05-09 11:24:45.000000100</td>\n",
       "      <td>163.91</td>\n",
       "      <td>-73.784198</td>\n",
       "      <td>40.648629</td>\n",
       "      <td>-74.247136</td>\n",
       "      <td>40.621692</td>\n",
       "      <td>1</td>\n",
       "    </tr>\n",
       "    <tr>\n",
       "      <th>46448</th>\n",
       "      <td>2015-04-26 21:50:05.000000200</td>\n",
       "      <td>377.75</td>\n",
       "      <td>-73.862778</td>\n",
       "      <td>40.768799</td>\n",
       "      <td>-73.119949</td>\n",
       "      <td>41.276634</td>\n",
       "      <td>1</td>\n",
       "    </tr>\n",
       "    <tr>\n",
       "      <th>51687</th>\n",
       "      <td>2012-06-27 01:30:46.000000100</td>\n",
       "      <td>210.00</td>\n",
       "      <td>-74.012195</td>\n",
       "      <td>40.715851</td>\n",
       "      <td>-74.012175</td>\n",
       "      <td>40.715841</td>\n",
       "      <td>1</td>\n",
       "    </tr>\n",
       "    <tr>\n",
       "      <th>58848</th>\n",
       "      <td>2015-06-25 23:26:17.000000300</td>\n",
       "      <td>165.00</td>\n",
       "      <td>-73.421967</td>\n",
       "      <td>40.783943</td>\n",
       "      <td>-73.422234</td>\n",
       "      <td>40.783886</td>\n",
       "      <td>1</td>\n",
       "    </tr>\n",
       "  </tbody>\n",
       "</table>\n",
       "</div>"
      ],
      "text/plain": [
       "                                key  fare_amount  pickup_longitude  \\\n",
       "921   2014-04-24 12:19:35.000000300       160.00        -74.185481   \n",
       "1129  2014-10-27 11:16:00.000000105       184.00        -73.541077   \n",
       "4219  2011-08-08 12:42:00.000000440       250.00        -74.184712   \n",
       "9260  2014-06-05 23:30:09.000000200       185.00        -74.375056   \n",
       "37962 2014-12-11 22:12:00.000000204       164.50        -73.992857   \n",
       "38634 2013-05-09 11:24:45.000000100       163.91        -73.784198   \n",
       "46448 2015-04-26 21:50:05.000000200       377.75        -73.862778   \n",
       "51687 2012-06-27 01:30:46.000000100       210.00        -74.012195   \n",
       "58848 2015-06-25 23:26:17.000000300       165.00        -73.421967   \n",
       "\n",
       "       pickup_latitude  dropoff_longitude  dropoff_latitude  passenger_count  \n",
       "921          40.698439         -74.187104         40.693440                2  \n",
       "1129         41.113127           0.000000          0.000000                1  \n",
       "4219         40.564758         -74.184712         40.564758                1  \n",
       "9260         40.737231         -74.375023         40.737228                1  \n",
       "37962        40.758077         -74.191497         40.813237                1  \n",
       "38634        40.648629         -74.247136         40.621692                1  \n",
       "46448        40.768799         -73.119949         41.276634                1  \n",
       "51687        40.715851         -74.012175         40.715841                1  \n",
       "58848        40.783943         -73.422234         40.783886                1  "
      ]
     },
     "execution_count": 34,
     "metadata": {},
     "output_type": "execute_result"
    }
   ],
   "source": [
    "taxi[taxi['fare_amount'] > 150]"
   ]
  },
  {
   "cell_type": "markdown",
   "id": "48b31e3b-a0e9-47fc-95c3-193d43f86d90",
   "metadata": {},
   "source": [
    "It is just nine records, and one of them has bad dropoff coordinates, all zeros, so that one row needs to be discarded. Given this finding, check first how many more records have longitude or latitude values of zero for either the pickup or the dropoff location.  Distances cannot be determined without that information."
   ]
  },
  {
   "cell_type": "code",
   "execution_count": 36,
   "id": "a33915bb-f105-442b-beb3-c9adbb4d50d8",
   "metadata": {},
   "outputs": [
    {
     "data": {
      "text/plain": [
       "False    58834\n",
       "True      1160\n",
       "Name: count, dtype: int64"
      ]
     },
     "execution_count": 36,
     "metadata": {},
     "output_type": "execute_result"
    }
   ],
   "source": [
    "# create boolean mask for all coordinates\n",
    "zero_coordinates = (taxi[['pickup_longitude', 'pickup_latitude', 'dropoff_longitude', 'dropoff_latitude']] == 0).any(axis=1)\n",
    "zero_coordinates.value_counts()"
   ]
  },
  {
   "cell_type": "markdown",
   "id": "369f783a-0ab3-4b80-a7b1-94eff11a8b45",
   "metadata": {},
   "source": [
    "About 2% of the records will need to be discarded.  Before doing so, take a quick look to confirm."
   ]
  },
  {
   "cell_type": "code",
   "execution_count": 38,
   "id": "c493aaaa-f7fb-484d-904f-d717fe63dd6e",
   "metadata": {},
   "outputs": [
    {
     "data": {
      "text/html": [
       "<div>\n",
       "<style scoped>\n",
       "    .dataframe tbody tr th:only-of-type {\n",
       "        vertical-align: middle;\n",
       "    }\n",
       "\n",
       "    .dataframe tbody tr th {\n",
       "        vertical-align: top;\n",
       "    }\n",
       "\n",
       "    .dataframe thead th {\n",
       "        text-align: right;\n",
       "    }\n",
       "</style>\n",
       "<table border=\"1\" class=\"dataframe\">\n",
       "  <thead>\n",
       "    <tr style=\"text-align: right;\">\n",
       "      <th></th>\n",
       "      <th>key</th>\n",
       "      <th>fare_amount</th>\n",
       "      <th>pickup_longitude</th>\n",
       "      <th>pickup_latitude</th>\n",
       "      <th>dropoff_longitude</th>\n",
       "      <th>dropoff_latitude</th>\n",
       "      <th>passenger_count</th>\n",
       "    </tr>\n",
       "  </thead>\n",
       "  <tbody>\n",
       "    <tr>\n",
       "      <th>8</th>\n",
       "      <td>2012-02-20 17:00:59.000000400</td>\n",
       "      <td>6.9</td>\n",
       "      <td>0.000000</td>\n",
       "      <td>0.000000</td>\n",
       "      <td>0.0</td>\n",
       "      <td>0.000000</td>\n",
       "      <td>2</td>\n",
       "    </tr>\n",
       "    <tr>\n",
       "      <th>44</th>\n",
       "      <td>2012-03-29 22:10:00.000000112</td>\n",
       "      <td>19.3</td>\n",
       "      <td>0.000000</td>\n",
       "      <td>0.000000</td>\n",
       "      <td>0.0</td>\n",
       "      <td>0.000000</td>\n",
       "      <td>1</td>\n",
       "    </tr>\n",
       "    <tr>\n",
       "      <th>83</th>\n",
       "      <td>2012-03-22 08:31:00.000000320</td>\n",
       "      <td>5.7</td>\n",
       "      <td>0.000000</td>\n",
       "      <td>0.000000</td>\n",
       "      <td>0.0</td>\n",
       "      <td>0.000000</td>\n",
       "      <td>1</td>\n",
       "    </tr>\n",
       "    <tr>\n",
       "      <th>240</th>\n",
       "      <td>2014-09-16 08:38:00.000000109</td>\n",
       "      <td>2.5</td>\n",
       "      <td>0.000000</td>\n",
       "      <td>0.000000</td>\n",
       "      <td>0.0</td>\n",
       "      <td>0.000000</td>\n",
       "      <td>1</td>\n",
       "    </tr>\n",
       "    <tr>\n",
       "      <th>308</th>\n",
       "      <td>2009-11-25 07:52:35.000000100</td>\n",
       "      <td>18.1</td>\n",
       "      <td>0.000000</td>\n",
       "      <td>0.000000</td>\n",
       "      <td>0.0</td>\n",
       "      <td>0.000000</td>\n",
       "      <td>1</td>\n",
       "    </tr>\n",
       "    <tr>\n",
       "      <th>...</th>\n",
       "      <td>...</td>\n",
       "      <td>...</td>\n",
       "      <td>...</td>\n",
       "      <td>...</td>\n",
       "      <td>...</td>\n",
       "      <td>...</td>\n",
       "      <td>...</td>\n",
       "    </tr>\n",
       "    <tr>\n",
       "      <th>59739</th>\n",
       "      <td>2012-08-09 15:56:00.000000158</td>\n",
       "      <td>10.1</td>\n",
       "      <td>-74.003960</td>\n",
       "      <td>40.742862</td>\n",
       "      <td>0.0</td>\n",
       "      <td>40.721647</td>\n",
       "      <td>1</td>\n",
       "    </tr>\n",
       "    <tr>\n",
       "      <th>59788</th>\n",
       "      <td>2014-07-22 07:08:00.000000160</td>\n",
       "      <td>6.0</td>\n",
       "      <td>0.000000</td>\n",
       "      <td>0.000000</td>\n",
       "      <td>0.0</td>\n",
       "      <td>0.000000</td>\n",
       "      <td>1</td>\n",
       "    </tr>\n",
       "    <tr>\n",
       "      <th>59792</th>\n",
       "      <td>2009-01-31 12:09:45.000000100</td>\n",
       "      <td>10.9</td>\n",
       "      <td>0.000000</td>\n",
       "      <td>0.000000</td>\n",
       "      <td>0.0</td>\n",
       "      <td>0.000000</td>\n",
       "      <td>1</td>\n",
       "    </tr>\n",
       "    <tr>\n",
       "      <th>59871</th>\n",
       "      <td>2010-09-21 18:07:00.000000159</td>\n",
       "      <td>32.1</td>\n",
       "      <td>0.000000</td>\n",
       "      <td>0.000000</td>\n",
       "      <td>0.0</td>\n",
       "      <td>0.000000</td>\n",
       "      <td>1</td>\n",
       "    </tr>\n",
       "    <tr>\n",
       "      <th>59942</th>\n",
       "      <td>2013-06-07 09:52:15.000000200</td>\n",
       "      <td>2.5</td>\n",
       "      <td>-73.972436</td>\n",
       "      <td>40.753838</td>\n",
       "      <td>0.0</td>\n",
       "      <td>0.000000</td>\n",
       "      <td>1</td>\n",
       "    </tr>\n",
       "  </tbody>\n",
       "</table>\n",
       "<p>1160 rows × 7 columns</p>\n",
       "</div>"
      ],
      "text/plain": [
       "                                key  fare_amount  pickup_longitude  \\\n",
       "8     2012-02-20 17:00:59.000000400          6.9          0.000000   \n",
       "44    2012-03-29 22:10:00.000000112         19.3          0.000000   \n",
       "83    2012-03-22 08:31:00.000000320          5.7          0.000000   \n",
       "240   2014-09-16 08:38:00.000000109          2.5          0.000000   \n",
       "308   2009-11-25 07:52:35.000000100         18.1          0.000000   \n",
       "...                             ...          ...               ...   \n",
       "59739 2012-08-09 15:56:00.000000158         10.1        -74.003960   \n",
       "59788 2014-07-22 07:08:00.000000160          6.0          0.000000   \n",
       "59792 2009-01-31 12:09:45.000000100         10.9          0.000000   \n",
       "59871 2010-09-21 18:07:00.000000159         32.1          0.000000   \n",
       "59942 2013-06-07 09:52:15.000000200          2.5        -73.972436   \n",
       "\n",
       "       pickup_latitude  dropoff_longitude  dropoff_latitude  passenger_count  \n",
       "8             0.000000                0.0          0.000000                2  \n",
       "44            0.000000                0.0          0.000000                1  \n",
       "83            0.000000                0.0          0.000000                1  \n",
       "240           0.000000                0.0          0.000000                1  \n",
       "308           0.000000                0.0          0.000000                1  \n",
       "...                ...                ...               ...              ...  \n",
       "59739        40.742862                0.0         40.721647                1  \n",
       "59788         0.000000                0.0          0.000000                1  \n",
       "59792         0.000000                0.0          0.000000                1  \n",
       "59871         0.000000                0.0          0.000000                1  \n",
       "59942        40.753838                0.0          0.000000                1  \n",
       "\n",
       "[1160 rows x 7 columns]"
      ]
     },
     "execution_count": 38,
     "metadata": {},
     "output_type": "execute_result"
    }
   ],
   "source": [
    "taxi[zero_coordinates]"
   ]
  },
  {
   "cell_type": "markdown",
   "id": "e7acdca1-0b57-46fd-ad70-a8104b493f2f",
   "metadata": {},
   "source": [
    "Indeed, these are all bad records.  Drop them from the dataset."
   ]
  },
  {
   "cell_type": "code",
   "execution_count": 40,
   "id": "4e99cb8d-d13d-417a-b2ad-a44f95533cc1",
   "metadata": {},
   "outputs": [
    {
     "name": "stdout",
     "output_type": "stream",
     "text": [
      "Before: (59994, 7)\n",
      "After: (58834, 7)\n"
     ]
    }
   ],
   "source": [
    "print(f'Before: {taxi.shape}')\n",
    "taxi.drop(index = taxi[zero_coordinates].index, inplace = True)\n",
    "taxi.reset_index(drop = True, inplace = True)\n",
    "print(f'After: {taxi.shape}')"
   ]
  },
  {
   "cell_type": "markdown",
   "id": "df1f3050-0c4c-422f-866d-d35b0263678c",
   "metadata": {},
   "source": [
    "Now that these bad records have been dropped, let's go back to the `fare_amount` outliers."
   ]
  },
  {
   "cell_type": "code",
   "execution_count": 42,
   "id": "bc982990-9b1d-4f4f-b73b-f5a752d0c06d",
   "metadata": {},
   "outputs": [
    {
     "data": {
      "text/html": [
       "<div>\n",
       "<style scoped>\n",
       "    .dataframe tbody tr th:only-of-type {\n",
       "        vertical-align: middle;\n",
       "    }\n",
       "\n",
       "    .dataframe tbody tr th {\n",
       "        vertical-align: top;\n",
       "    }\n",
       "\n",
       "    .dataframe thead th {\n",
       "        text-align: right;\n",
       "    }\n",
       "</style>\n",
       "<table border=\"1\" class=\"dataframe\">\n",
       "  <thead>\n",
       "    <tr style=\"text-align: right;\">\n",
       "      <th></th>\n",
       "      <th>key</th>\n",
       "      <th>fare_amount</th>\n",
       "      <th>pickup_longitude</th>\n",
       "      <th>pickup_latitude</th>\n",
       "      <th>dropoff_longitude</th>\n",
       "      <th>dropoff_latitude</th>\n",
       "      <th>passenger_count</th>\n",
       "    </tr>\n",
       "  </thead>\n",
       "  <tbody>\n",
       "    <tr>\n",
       "      <th>904</th>\n",
       "      <td>2014-04-24 12:19:35.000000300</td>\n",
       "      <td>160.00</td>\n",
       "      <td>-74.185481</td>\n",
       "      <td>40.698439</td>\n",
       "      <td>-74.187104</td>\n",
       "      <td>40.693440</td>\n",
       "      <td>2</td>\n",
       "    </tr>\n",
       "    <tr>\n",
       "      <th>4144</th>\n",
       "      <td>2011-08-08 12:42:00.000000440</td>\n",
       "      <td>250.00</td>\n",
       "      <td>-74.184712</td>\n",
       "      <td>40.564758</td>\n",
       "      <td>-74.184712</td>\n",
       "      <td>40.564758</td>\n",
       "      <td>1</td>\n",
       "    </tr>\n",
       "    <tr>\n",
       "      <th>9087</th>\n",
       "      <td>2014-06-05 23:30:09.000000200</td>\n",
       "      <td>185.00</td>\n",
       "      <td>-74.375056</td>\n",
       "      <td>40.737231</td>\n",
       "      <td>-74.375023</td>\n",
       "      <td>40.737228</td>\n",
       "      <td>1</td>\n",
       "    </tr>\n",
       "    <tr>\n",
       "      <th>37213</th>\n",
       "      <td>2014-12-11 22:12:00.000000204</td>\n",
       "      <td>164.50</td>\n",
       "      <td>-73.992857</td>\n",
       "      <td>40.758077</td>\n",
       "      <td>-74.191497</td>\n",
       "      <td>40.813237</td>\n",
       "      <td>1</td>\n",
       "    </tr>\n",
       "    <tr>\n",
       "      <th>37871</th>\n",
       "      <td>2013-05-09 11:24:45.000000100</td>\n",
       "      <td>163.91</td>\n",
       "      <td>-73.784198</td>\n",
       "      <td>40.648629</td>\n",
       "      <td>-74.247136</td>\n",
       "      <td>40.621692</td>\n",
       "      <td>1</td>\n",
       "    </tr>\n",
       "    <tr>\n",
       "      <th>45523</th>\n",
       "      <td>2015-04-26 21:50:05.000000200</td>\n",
       "      <td>377.75</td>\n",
       "      <td>-73.862778</td>\n",
       "      <td>40.768799</td>\n",
       "      <td>-73.119949</td>\n",
       "      <td>41.276634</td>\n",
       "      <td>1</td>\n",
       "    </tr>\n",
       "    <tr>\n",
       "      <th>50675</th>\n",
       "      <td>2012-06-27 01:30:46.000000100</td>\n",
       "      <td>210.00</td>\n",
       "      <td>-74.012195</td>\n",
       "      <td>40.715851</td>\n",
       "      <td>-74.012175</td>\n",
       "      <td>40.715841</td>\n",
       "      <td>1</td>\n",
       "    </tr>\n",
       "    <tr>\n",
       "      <th>57713</th>\n",
       "      <td>2015-06-25 23:26:17.000000300</td>\n",
       "      <td>165.00</td>\n",
       "      <td>-73.421967</td>\n",
       "      <td>40.783943</td>\n",
       "      <td>-73.422234</td>\n",
       "      <td>40.783886</td>\n",
       "      <td>1</td>\n",
       "    </tr>\n",
       "  </tbody>\n",
       "</table>\n",
       "</div>"
      ],
      "text/plain": [
       "                                key  fare_amount  pickup_longitude  \\\n",
       "904   2014-04-24 12:19:35.000000300       160.00        -74.185481   \n",
       "4144  2011-08-08 12:42:00.000000440       250.00        -74.184712   \n",
       "9087  2014-06-05 23:30:09.000000200       185.00        -74.375056   \n",
       "37213 2014-12-11 22:12:00.000000204       164.50        -73.992857   \n",
       "37871 2013-05-09 11:24:45.000000100       163.91        -73.784198   \n",
       "45523 2015-04-26 21:50:05.000000200       377.75        -73.862778   \n",
       "50675 2012-06-27 01:30:46.000000100       210.00        -74.012195   \n",
       "57713 2015-06-25 23:26:17.000000300       165.00        -73.421967   \n",
       "\n",
       "       pickup_latitude  dropoff_longitude  dropoff_latitude  passenger_count  \n",
       "904          40.698439         -74.187104         40.693440                2  \n",
       "4144         40.564758         -74.184712         40.564758                1  \n",
       "9087         40.737231         -74.375023         40.737228                1  \n",
       "37213        40.758077         -74.191497         40.813237                1  \n",
       "37871        40.648629         -74.247136         40.621692                1  \n",
       "45523        40.768799         -73.119949         41.276634                1  \n",
       "50675        40.715851         -74.012175         40.715841                1  \n",
       "57713        40.783943         -73.422234         40.783886                1  "
      ]
     },
     "execution_count": 42,
     "metadata": {},
     "output_type": "execute_result"
    }
   ],
   "source": [
    "taxi[taxi['fare_amount'] > 150]"
   ]
  },
  {
   "cell_type": "markdown",
   "id": "959ac1e5-3770-4eba-9a07-7718500431bd",
   "metadata": {},
   "source": [
    "As expected, only eight records are left. Without having calculated the distances yet, a decision on whether to drop them or not cannot be made yet.  Keep these records for now as they only account for about one hundreth of the data, which is negligible.<br>\n",
    "Let's take a look at the entire distribution from 2.50 USD all the way to 377.75 USD."
   ]
  },
  {
   "cell_type": "code",
   "execution_count": 44,
   "id": "ba3d1fa7-8cca-49a8-804a-98d11105931b",
   "metadata": {},
   "outputs": [
    {
     "data": {
      "image/png": "[encoded data removed]",
      "text/plain": [
       "<Figure size 1600x600 with 2 Axes>"
      ]
     },
     "metadata": {},
     "output_type": "display_data"
    }
   ],
   "source": [
    "lu.plot_hist_box(taxi, col_name = 'fare_amount', title = 'Fare Amount Distribution', xlabel = 'Dollars')\n",
    "plt.savefig('../images/hist_boxplot_fare_amount.png')"
   ]
  },
  {
   "cell_type": "code",
   "execution_count": 46,
   "id": "36de93b0-dee2-4ed4-a5da-7b7da78c2a0e",
   "metadata": {},
   "outputs": [
    {
     "data": {
      "text/plain": [
       "count    58834.000000\n",
       "mean        11.317511\n",
       "std          9.802747\n",
       "min          2.500000\n",
       "25%          6.000000\n",
       "50%          8.500000\n",
       "75%         12.500000\n",
       "max        377.750000\n",
       "Name: fare_amount, dtype: float64"
      ]
     },
     "execution_count": 46,
     "metadata": {},
     "output_type": "execute_result"
    }
   ],
   "source": [
    "# check stats again\n",
    "taxi['fare_amount'].describe()"
   ]
  },
  {
   "cell_type": "markdown",
   "id": "3c9d7f00-3916-4f67-b79a-8037efed8148",
   "metadata": {},
   "source": [
    "The entire range of values for `fare_amount` looks reasonable. The mean of 11.32 is consistent with the average fare listed in the consulted <a href = 'https://web.archive.org/web/20181024231444/http://www.nyc.gov/html/tlc/downloads/pdf/2014_taxicab_fact_book.pdf'>sources</a>.  Even the outliers, without taking distance into account, look consistent because they're a few.  That being said, once distances between pickup and dropoff locations are calculated, the `fare_amount` column must be revisited again."
   ]
  },
  {
   "cell_type": "markdown",
   "id": "a44d24cf-acc0-421f-9859-32db29a88fe3",
   "metadata": {},
   "source": [
    "---\n",
    "**Columns**: `pickup_longitude`, `pickup_latitude`, `dropoff_longitude` and `dropoff_latitude`."
   ]
  },
  {
   "cell_type": "markdown",
   "id": "18422df3-437b-466a-b14b-42819e00d685",
   "metadata": {},
   "source": [
    "Ensure all pickup and dropoff locations are actually within NYC.  Research indicated the following parameters:<br>\n",
    "*  Northernmost point: 40.915 degrees N latitude\n",
    "*  Southernmost point: 40.496 degrees N latitude\n",
    "*  Westernmost point: -74.256 degrees W longitude\n",
    "*  Easternmost point: -73.702 degrees W longitude\n",
    "\n",
    "<br>These four points only create a box that encompass the entire city of New York. Since the city borders don't actually follow a box outline, some pickup/dropoff points within this box may lie outside city limits.  However, this first step helps discard any coordinates that may be geographically wrong (in another part of the country/world) and any coordinates immediately outside the box, which are obviously not within NYC. Once addresses are determine, that will help discard the remaining points."
   ]
  },
  {
   "cell_type": "code",
   "execution_count": 50,
   "id": "489c8169-d626-4ab9-af82-e000ecffc563",
   "metadata": {},
   "outputs": [
    {
     "name": "stdout",
     "output_type": "stream",
     "text": [
      "Before: (58834, 7)\n",
      "After: (58790, 7)\n"
     ]
    }
   ],
   "source": [
    "# drop rides north of 40.915 degrees\n",
    "coordinates = (taxi[['pickup_latitude', 'dropoff_latitude']] > 40.915).any(axis=1)\n",
    "\n",
    "print(f'Before: {taxi.shape}')\n",
    "taxi.drop(index = taxi[coordinates].index, inplace = True)\n",
    "taxi.reset_index(drop = True, inplace = True)\n",
    "print(f'After: {taxi.shape}')"
   ]
  },
  {
   "cell_type": "code",
   "execution_count": 52,
   "id": "1442a483-dc0d-4c32-8555-66681466341b",
   "metadata": {},
   "outputs": [
    {
     "name": "stdout",
     "output_type": "stream",
     "text": [
      "Before: (58790, 7)\n",
      "After: (58741, 7)\n"
     ]
    }
   ],
   "source": [
    "# drop rides south of 40.496 degrees\n",
    "coordinates = (taxi[['pickup_latitude', 'dropoff_latitude']] < 40.496).any(axis=1)\n",
    "\n",
    "print(f'Before: {taxi.shape}')\n",
    "taxi.drop(index = taxi[coordinates].index, inplace = True)\n",
    "taxi.reset_index(drop = True, inplace = True)\n",
    "print(f'After: {taxi.shape}')"
   ]
  },
  {
   "cell_type": "code",
   "execution_count": 54,
   "id": "5277c9a6-f544-407d-ba62-d07e6846ca5b",
   "metadata": {},
   "outputs": [
    {
     "name": "stdout",
     "output_type": "stream",
     "text": [
      "Before: (58741, 7)\n",
      "After: (58734, 7)\n"
     ]
    }
   ],
   "source": [
    "# drop rides west of -74.256 degrees\n",
    "coordinates = (taxi[['pickup_longitude', 'dropoff_longitude']] < -74.256).any(axis=1)\n",
    "\n",
    "print(f'Before: {taxi.shape}')\n",
    "taxi.drop(index = taxi[coordinates].index, inplace = True)\n",
    "taxi.reset_index(drop = True, inplace = True)\n",
    "print(f'After: {taxi.shape}')"
   ]
  },
  {
   "cell_type": "code",
   "execution_count": 56,
   "id": "bf470e00-5a5b-4ac9-95d8-9570ad8b65e7",
   "metadata": {},
   "outputs": [
    {
     "name": "stdout",
     "output_type": "stream",
     "text": [
      "Before: (58734, 7)\n",
      "After: (58707, 7)\n"
     ]
    }
   ],
   "source": [
    "# drop rides east of -73.702 degrees\n",
    "coordinates = (taxi[['pickup_longitude', 'dropoff_longitude']] > -73.702).any(axis=1)\n",
    "\n",
    "print(f'Before: {taxi.shape}')\n",
    "taxi.drop(index = taxi[coordinates].index, inplace = True)\n",
    "taxi.reset_index(drop = True, inplace = True)\n",
    "print(f'After: {taxi.shape}')"
   ]
  },
  {
   "cell_type": "markdown",
   "id": "d11c6b86-1d7c-4ad1-a40a-f122622971a8",
   "metadata": {},
   "source": [
    "Total rows dropped were 127, that accounts for less than 1% of the data.<br>\n",
    "Now check the stats for each of the coordinate columns to make sure the data is within the imaginary geographical box that's been set for this exercise."
   ]
  },
  {
   "cell_type": "code",
   "execution_count": 59,
   "id": "f3d7edd6-b106-48e5-9385-2973939103bb",
   "metadata": {},
   "outputs": [
    {
     "data": {
      "text/html": [
       "<div>\n",
       "<style scoped>\n",
       "    .dataframe tbody tr th:only-of-type {\n",
       "        vertical-align: middle;\n",
       "    }\n",
       "\n",
       "    .dataframe tbody tr th {\n",
       "        vertical-align: top;\n",
       "    }\n",
       "\n",
       "    .dataframe thead th {\n",
       "        text-align: right;\n",
       "    }\n",
       "</style>\n",
       "<table border=\"1\" class=\"dataframe\">\n",
       "  <thead>\n",
       "    <tr style=\"text-align: right;\">\n",
       "      <th></th>\n",
       "      <th>pickup_longitude</th>\n",
       "      <th>pickup_latitude</th>\n",
       "      <th>dropoff_longitude</th>\n",
       "      <th>dropoff_latitude</th>\n",
       "    </tr>\n",
       "  </thead>\n",
       "  <tbody>\n",
       "    <tr>\n",
       "      <th>count</th>\n",
       "      <td>58707.000000</td>\n",
       "      <td>58707.000000</td>\n",
       "      <td>58707.000000</td>\n",
       "      <td>58707.000000</td>\n",
       "    </tr>\n",
       "    <tr>\n",
       "      <th>mean</th>\n",
       "      <td>-73.975603</td>\n",
       "      <td>40.750845</td>\n",
       "      <td>-73.974666</td>\n",
       "      <td>40.751300</td>\n",
       "    </tr>\n",
       "    <tr>\n",
       "      <th>std</th>\n",
       "      <td>0.034265</td>\n",
       "      <td>0.026932</td>\n",
       "      <td>0.033789</td>\n",
       "      <td>0.030709</td>\n",
       "    </tr>\n",
       "    <tr>\n",
       "      <th>min</th>\n",
       "      <td>-74.208238</td>\n",
       "      <td>40.528705</td>\n",
       "      <td>-74.247136</td>\n",
       "      <td>40.517088</td>\n",
       "    </tr>\n",
       "    <tr>\n",
       "      <th>25%</th>\n",
       "      <td>-73.992170</td>\n",
       "      <td>40.736654</td>\n",
       "      <td>-73.991512</td>\n",
       "      <td>40.735780</td>\n",
       "    </tr>\n",
       "    <tr>\n",
       "      <th>50%</th>\n",
       "      <td>-73.982120</td>\n",
       "      <td>40.753363</td>\n",
       "      <td>-73.980544</td>\n",
       "      <td>40.753966</td>\n",
       "    </tr>\n",
       "    <tr>\n",
       "      <th>75%</th>\n",
       "      <td>-73.968456</td>\n",
       "      <td>40.767472</td>\n",
       "      <td>-73.965528</td>\n",
       "      <td>40.768360</td>\n",
       "    </tr>\n",
       "    <tr>\n",
       "      <th>max</th>\n",
       "      <td>-73.718987</td>\n",
       "      <td>40.906545</td>\n",
       "      <td>-73.708780</td>\n",
       "      <td>40.912382</td>\n",
       "    </tr>\n",
       "  </tbody>\n",
       "</table>\n",
       "</div>"
      ],
      "text/plain": [
       "       pickup_longitude  pickup_latitude  dropoff_longitude  dropoff_latitude\n",
       "count      58707.000000     58707.000000       58707.000000      58707.000000\n",
       "mean         -73.975603        40.750845         -73.974666         40.751300\n",
       "std            0.034265         0.026932           0.033789          0.030709\n",
       "min          -74.208238        40.528705         -74.247136         40.517088\n",
       "25%          -73.992170        40.736654         -73.991512         40.735780\n",
       "50%          -73.982120        40.753363         -73.980544         40.753966\n",
       "75%          -73.968456        40.767472         -73.965528         40.768360\n",
       "max          -73.718987        40.906545         -73.708780         40.912382"
      ]
     },
     "execution_count": 59,
     "metadata": {},
     "output_type": "execute_result"
    }
   ],
   "source": [
    "taxi[['pickup_longitude', 'pickup_latitude', 'dropoff_longitude', 'dropoff_latitude']].describe()"
   ]
  },
  {
   "cell_type": "markdown",
   "id": "07e11291-55f9-48d2-808b-aebe55583869",
   "metadata": {},
   "source": [
    "All coordinates are correct and within the box."
   ]
  },
  {
   "cell_type": "markdown",
   "id": "4b053340-17b8-4e1a-a520-0f3b28100f00",
   "metadata": {},
   "source": [
    "----\n",
    "**Column**: `passenger_count`"
   ]
  },
  {
   "cell_type": "code",
   "execution_count": 61,
   "id": "8341b37d-703b-44d1-af5a-fcadadbcc72d",
   "metadata": {},
   "outputs": [
    {
     "data": {
      "text/plain": [
       "passenger_count\n",
       "0      208\n",
       "1    40493\n",
       "2     8698\n",
       "3     2656\n",
       "4     1313\n",
       "5     4113\n",
       "6     1226\n",
       "Name: count, dtype: int64"
      ]
     },
     "execution_count": 61,
     "metadata": {},
     "output_type": "execute_result"
    }
   ],
   "source": [
    "# check stats\n",
    "taxi['passenger_count'].value_counts().sort_index()"
   ]
  },
  {
   "cell_type": "markdown",
   "id": "7cf092ba-545f-4623-9261-5c07dc56f108",
   "metadata": {},
   "source": [
    "Passenger count cannot be zero.  However, the aim of this exercise is to predict the fare amount when a passenger requests a ride, and in NYC fares are NOT determined by the number of passengers, but rather by the initial base fare, plus distance traveled, time spent in slow traffic and tolls.  Therefore, this column can be ignored.  For the sake of data consistency, though, all rows where passenger count is zero will be filled with number 1."
   ]
  },
  {
   "cell_type": "code",
   "execution_count": 63,
   "id": "f7bef9d1-e415-4985-957a-d8df1c2c921e",
   "metadata": {},
   "outputs": [
    {
     "data": {
      "text/plain": [
       "passenger_count\n",
       "1    40701\n",
       "2     8698\n",
       "3     2656\n",
       "4     1313\n",
       "5     4113\n",
       "6     1226\n",
       "Name: count, dtype: int64"
      ]
     },
     "execution_count": 63,
     "metadata": {},
     "output_type": "execute_result"
    }
   ],
   "source": [
    "# fill in with ones\n",
    "taxi.loc[taxi['passenger_count'] == 0, 'passenger_count'] = 1\n",
    "\n",
    "# confirm\n",
    "taxi['passenger_count'].value_counts().sort_index()"
   ]
  },
  {
   "cell_type": "markdown",
   "id": "55f8816c-502f-4140-a7a4-52da86bcda8b",
   "metadata": {},
   "source": [
    "----\n",
    "**New Columns**: `year`, `month`, `day_of_week`, `hour` and `minute`"
   ]
  },
  {
   "cell_type": "markdown",
   "id": "863eb38c-a09d-46af-9fac-9486af71cca3",
   "metadata": {},
   "source": [
    "Parse the `key` column, which is a `datetime` object, to extract different time elements and create new columns with them."
   ]
  },
  {
   "cell_type": "code",
   "execution_count": 65,
   "id": "c803cb79-04bd-46c7-853c-9eaea24fee28",
   "metadata": {},
   "outputs": [
    {
     "name": "stdout",
     "output_type": "stream",
     "text": [
      "Before: (58707, 7)\n",
      "After: (58707, 12)\n"
     ]
    },
    {
     "data": {
      "text/html": [
       "<div>\n",
       "<style scoped>\n",
       "    .dataframe tbody tr th:only-of-type {\n",
       "        vertical-align: middle;\n",
       "    }\n",
       "\n",
       "    .dataframe tbody tr th {\n",
       "        vertical-align: top;\n",
       "    }\n",
       "\n",
       "    .dataframe thead th {\n",
       "        text-align: right;\n",
       "    }\n",
       "</style>\n",
       "<table border=\"1\" class=\"dataframe\">\n",
       "  <thead>\n",
       "    <tr style=\"text-align: right;\">\n",
       "      <th></th>\n",
       "      <th>key</th>\n",
       "      <th>fare_amount</th>\n",
       "      <th>pickup_longitude</th>\n",
       "      <th>pickup_latitude</th>\n",
       "      <th>dropoff_longitude</th>\n",
       "      <th>dropoff_latitude</th>\n",
       "      <th>passenger_count</th>\n",
       "      <th>year</th>\n",
       "      <th>month</th>\n",
       "      <th>day_of_week</th>\n",
       "      <th>hour</th>\n",
       "      <th>minute</th>\n",
       "    </tr>\n",
       "  </thead>\n",
       "  <tbody>\n",
       "    <tr>\n",
       "      <th>0</th>\n",
       "      <td>2010-10-31 03:32:00.000000130</td>\n",
       "      <td>3.7</td>\n",
       "      <td>-73.982163</td>\n",
       "      <td>40.762762</td>\n",
       "      <td>-73.987518</td>\n",
       "      <td>40.760543</td>\n",
       "      <td>1</td>\n",
       "      <td>2010</td>\n",
       "      <td>October</td>\n",
       "      <td>Sunday</td>\n",
       "      <td>3</td>\n",
       "      <td>32</td>\n",
       "    </tr>\n",
       "  </tbody>\n",
       "</table>\n",
       "</div>"
      ],
      "text/plain": [
       "                            key  fare_amount  pickup_longitude  \\\n",
       "0 2010-10-31 03:32:00.000000130          3.7        -73.982163   \n",
       "\n",
       "   pickup_latitude  dropoff_longitude  dropoff_latitude  passenger_count  \\\n",
       "0        40.762762         -73.987518         40.760543                1   \n",
       "\n",
       "   year    month day_of_week  hour  minute  \n",
       "0  2010  October      Sunday     3      32  "
      ]
     },
     "execution_count": 65,
     "metadata": {},
     "output_type": "execute_result"
    }
   ],
   "source": [
    "# create new columns from key\n",
    "print(f'Before: {taxi.shape}')\n",
    "\n",
    "taxi['year'] = taxi['key'].dt.year\n",
    "taxi['month'] = taxi['key'].dt.month_name()\n",
    "taxi['day_of_week'] = taxi['key'].dt.day_name()\n",
    "taxi['hour'] = taxi['key'].dt.hour\n",
    "taxi['minute'] = taxi['key'].dt.minute\n",
    "\n",
    "print(f'After: {taxi.shape}')\n",
    "\n",
    "# see first row\n",
    "taxi.head(1)"
   ]
  },
  {
   "cell_type": "markdown",
   "id": "5580af6d-2d2c-43c7-9db0-34c58b106def",
   "metadata": {},
   "source": [
    "All new columns successfully created. Confirm now that the data types are correct."
   ]
  },
  {
   "cell_type": "code",
   "execution_count": 67,
   "id": "5db5a9b0-d496-49ed-9c07-b4221b577eba",
   "metadata": {},
   "outputs": [
    {
     "data": {
      "text/plain": [
       "key                  datetime64[ns]\n",
       "fare_amount                 float64\n",
       "pickup_longitude            float64\n",
       "pickup_latitude             float64\n",
       "dropoff_longitude           float64\n",
       "dropoff_latitude            float64\n",
       "passenger_count               int64\n",
       "year                          int32\n",
       "month                        object\n",
       "day_of_week                  object\n",
       "hour                          int32\n",
       "minute                        int32\n",
       "dtype: object"
      ]
     },
     "execution_count": 67,
     "metadata": {},
     "output_type": "execute_result"
    }
   ],
   "source": [
    "taxi.dtypes"
   ]
  },
  {
   "cell_type": "markdown",
   "id": "a5c0a8b3-8518-4539-855f-0e6fe16ad051",
   "metadata": {},
   "source": [
    "---\n",
    "**Column:** `year`"
   ]
  },
  {
   "cell_type": "code",
   "execution_count": 69,
   "id": "a7473241-8ed6-45fa-aabc-22a44d0823b7",
   "metadata": {},
   "outputs": [
    {
     "data": {
      "text/plain": [
       "year\n",
       "2009    9241\n",
       "2010    8812\n",
       "2011    9252\n",
       "2012    9477\n",
       "2013    9027\n",
       "2014    8812\n",
       "2015    4086\n",
       "Name: count, dtype: int64"
      ]
     },
     "execution_count": 69,
     "metadata": {},
     "output_type": "execute_result"
    }
   ],
   "source": [
    "# year counts\n",
    "taxi['year'].value_counts().sort_index()"
   ]
  },
  {
   "cell_type": "markdown",
   "id": "fdb6112f-45ce-48ba-88ad-d9fb0a72fd48",
   "metadata": {},
   "source": [
    "Investigate why 2015 has a significantly lower count."
   ]
  },
  {
   "cell_type": "code",
   "execution_count": 71,
   "id": "9c54d172-8c45-4d2f-89ac-98a4182697e2",
   "metadata": {},
   "outputs": [
    {
     "data": {
      "text/plain": [
       "month\n",
       "April       700\n",
       "February    631\n",
       "January     699\n",
       "June        659\n",
       "March       700\n",
       "May         697\n",
       "Name: count, dtype: int64"
      ]
     },
     "execution_count": 71,
     "metadata": {},
     "output_type": "execute_result"
    }
   ],
   "source": [
    "taxi[taxi['year'] == 2015]['month'].value_counts().sort_index()"
   ]
  },
  {
   "cell_type": "markdown",
   "id": "97c476f8-71b4-455d-b0d8-709c330a2cc1",
   "metadata": {},
   "source": [
    "Only the first six months of 2015 are available. This may bias the data by just having half of one year.  Although these many rows account for 6.9% of the dataset, it's better to drop them to keep all the years consistent."
   ]
  },
  {
   "cell_type": "code",
   "execution_count": 73,
   "id": "1f0804eb-f337-4aa9-9a00-b0909cf6280f",
   "metadata": {},
   "outputs": [
    {
     "name": "stdout",
     "output_type": "stream",
     "text": [
      "Before: (58707, 12)\n",
      "After: (54621, 12)\n"
     ]
    }
   ],
   "source": [
    "print(f'Before: {taxi.shape}')\n",
    "taxi.drop(index = taxi[taxi['year'] == 2015].index, inplace = True)\n",
    "taxi.reset_index(drop = True, inplace = True)\n",
    "print(f'After: {taxi.shape}')"
   ]
  },
  {
   "cell_type": "code",
   "execution_count": 75,
   "id": "fa8742bf-931a-413a-bc91-ac80a899a463",
   "metadata": {},
   "outputs": [
    {
     "data": {
      "text/plain": [
       "year\n",
       "2009    0.169184\n",
       "2010    0.161330\n",
       "2011    0.169385\n",
       "2012    0.173505\n",
       "2013    0.165266\n",
       "2014    0.161330\n",
       "Name: proportion, dtype: float64"
      ]
     },
     "execution_count": 75,
     "metadata": {},
     "output_type": "execute_result"
    }
   ],
   "source": [
    "# check year counts again\n",
    "taxi['year'].value_counts(normalize = True).sort_index()"
   ]
  },
  {
   "cell_type": "markdown",
   "id": "77c3fa59-4946-4bda-b7e3-34bdb112d100",
   "metadata": {},
   "source": [
    "The full year counts are well balanced."
   ]
  },
  {
   "cell_type": "markdown",
   "id": "767f6730-4b0a-4078-9284-4bc7c8f92627",
   "metadata": {},
   "source": [
    "-----\n",
    "**Column**: `month`"
   ]
  },
  {
   "cell_type": "code",
   "execution_count": 77,
   "id": "af59177b-40ba-4603-b42e-bcf44fcfa733",
   "metadata": {},
   "outputs": [
    {
     "data": {
      "text/plain": [
       "month\n",
       "March        0.090368\n",
       "May          0.087604\n",
       "April        0.086139\n",
       "June         0.085279\n",
       "October      0.085169\n",
       "July         0.083045\n",
       "November     0.082313\n",
       "January      0.081910\n",
       "December     0.081324\n",
       "September    0.080738\n",
       "August       0.078230\n",
       "February     0.077882\n",
       "Name: proportion, dtype: float64"
      ]
     },
     "execution_count": 77,
     "metadata": {},
     "output_type": "execute_result"
    }
   ],
   "source": [
    "taxi['month'].value_counts(normalize = True)"
   ]
  },
  {
   "cell_type": "markdown",
   "id": "e22711ec-2e78-4e05-9e2f-e561067856fb",
   "metadata": {},
   "source": [
    "The counts for `month` are well balanced."
   ]
  },
  {
   "cell_type": "markdown",
   "id": "cd9512a4-5b43-4f0f-b7f7-743b5ae6b4ea",
   "metadata": {},
   "source": [
    "-------\n",
    "**Column**: `day_of_week`"
   ]
  },
  {
   "cell_type": "code",
   "execution_count": 79,
   "id": "ffdc6280-ccb9-4687-9554-fd10170c525e",
   "metadata": {},
   "outputs": [
    {
     "data": {
      "text/plain": [
       "day_of_week\n",
       "Friday       0.155343\n",
       "Saturday     0.151535\n",
       "Thursday     0.149118\n",
       "Wednesday    0.144120\n",
       "Tuesday      0.141374\n",
       "Sunday       0.130554\n",
       "Monday       0.127954\n",
       "Name: proportion, dtype: float64"
      ]
     },
     "execution_count": 79,
     "metadata": {},
     "output_type": "execute_result"
    }
   ],
   "source": [
    "taxi['day_of_week'].value_counts(normalize = True)"
   ]
  },
  {
   "cell_type": "markdown",
   "id": "691b0988-95d7-44d6-a8bb-9309d895563d",
   "metadata": {},
   "source": [
    "The counts for all days of the week are well balanced."
   ]
  },
  {
   "cell_type": "markdown",
   "id": "691e184a-b9c8-44e4-a3a8-36a261b2d84d",
   "metadata": {},
   "source": [
    "----\n",
    "**Column**: `hour`"
   ]
  },
  {
   "cell_type": "markdown",
   "id": "718f8658-dfd4-442b-82e8-82cc289cd8ea",
   "metadata": {},
   "source": [
    "Verify that the hours are from 0 to 23."
   ]
  },
  {
   "cell_type": "code",
   "execution_count": 81,
   "id": "230d9fa5-e290-427f-9080-371894abe01a",
   "metadata": {},
   "outputs": [
    {
     "data": {
      "text/plain": [
       "min     0.0\n",
       "max    23.0\n",
       "Name: hour, dtype: float64"
      ]
     },
     "execution_count": 81,
     "metadata": {},
     "output_type": "execute_result"
    }
   ],
   "source": [
    "taxi['hour'].describe()[['min', 'max']]"
   ]
  },
  {
   "cell_type": "markdown",
   "id": "83ed3388-46ef-47ca-a904-019a61d710bf",
   "metadata": {},
   "source": [
    "Values are within expected parameters."
   ]
  },
  {
   "cell_type": "markdown",
   "id": "029a227e-c068-48fa-a1e7-adad7bd6125c",
   "metadata": {},
   "source": [
    "----\n",
    "**Column**: `minute`"
   ]
  },
  {
   "cell_type": "markdown",
   "id": "9c9f2bf5-d1bf-464d-8979-bd3b7bec3d75",
   "metadata": {},
   "source": [
    "Verify that the minutes are bound between 0 and 59."
   ]
  },
  {
   "cell_type": "code",
   "execution_count": 86,
   "id": "25f12a93-e009-4437-922e-da6a5b55f73d",
   "metadata": {},
   "outputs": [
    {
     "data": {
      "text/plain": [
       "min     0.0\n",
       "max    59.0\n",
       "Name: minute, dtype: float64"
      ]
     },
     "execution_count": 86,
     "metadata": {},
     "output_type": "execute_result"
    }
   ],
   "source": [
    "taxi['minute'].describe()[['min', 'max']]"
   ]
  },
  {
   "cell_type": "markdown",
   "id": "a2f43d04-0264-42ec-82a8-57385e950630",
   "metadata": {},
   "source": [
    "Values are within expected parameters."
   ]
  },
  {
   "cell_type": "markdown",
   "id": "95e789a1-a6f6-4094-a99f-13547b0cb31e",
   "metadata": {},
   "source": [
    "---\n",
    "**Columns Cleanup Summary**"
   ]
  },
  {
   "cell_type": "markdown",
   "id": "4ebcd384-b7b1-4616-8790-78e1008d954b",
   "metadata": {},
   "source": [
    "Check all columns and data types again."
   ]
  },
  {
   "cell_type": "code",
   "execution_count": 88,
   "id": "523f08f9-a260-4242-8a71-dd929e9c7ad8",
   "metadata": {},
   "outputs": [
    {
     "name": "stdout",
     "output_type": "stream",
     "text": [
      "<class 'pandas.core.frame.DataFrame'>\n",
      "RangeIndex: 54621 entries, 0 to 54620\n",
      "Data columns (total 12 columns):\n",
      " #   Column             Non-Null Count  Dtype         \n",
      "---  ------             --------------  -----         \n",
      " 0   key                54621 non-null  datetime64[ns]\n",
      " 1   fare_amount        54621 non-null  float64       \n",
      " 2   pickup_longitude   54621 non-null  float64       \n",
      " 3   pickup_latitude    54621 non-null  float64       \n",
      " 4   dropoff_longitude  54621 non-null  float64       \n",
      " 5   dropoff_latitude   54621 non-null  float64       \n",
      " 6   passenger_count    54621 non-null  int64         \n",
      " 7   year               54621 non-null  int32         \n",
      " 8   month              54621 non-null  object        \n",
      " 9   day_of_week        54621 non-null  object        \n",
      " 10  hour               54621 non-null  int32         \n",
      " 11  minute             54621 non-null  int32         \n",
      "dtypes: datetime64[ns](1), float64(5), int32(3), int64(1), object(2)\n",
      "memory usage: 4.4+ MB\n"
     ]
    }
   ],
   "source": [
    "taxi.info()"
   ]
  },
  {
   "cell_type": "markdown",
   "id": "3c51aee0-4d0a-484c-be5c-22fc268cc891",
   "metadata": {},
   "source": [
    "All columns look correct.  The data types for each one correspond to the values assigned to each column and there are no missing values.  At this juncture in the cleanup process, the dataset retains 91.04% of the original rows with new, informative columns extracted from the `key` column. <br>"
   ]
  },
  {
   "cell_type": "markdown",
   "id": "f48e8d93-9ebf-43fc-8b7e-b5e48a24bf87",
   "metadata": {},
   "source": [
    "----\n",
    "**Pickup and Dropoff Locations**"
   ]
  },
  {
   "cell_type": "markdown",
   "id": "36815a21-1f60-4495-b178-0d3905ff2db1",
   "metadata": {},
   "source": [
    "Let's take a quick look at the geographical distribution of both pickup and dropoff locations within the spatial parameters that were set earlier."
   ]
  },
  {
   "cell_type": "code",
   "execution_count": 156,
   "id": "29dcc863-b700-444c-a9b8-97b79dc22363",
   "metadata": {},
   "outputs": [
    {
     "data": {
      "image/png": "[encoded data removed]",
      "text/plain": [
       "<Figure size 1200x500 with 2 Axes>"
      ]
     },
     "metadata": {},
     "output_type": "display_data"
    }
   ],
   "source": [
    "# scatter plots of pickups and dropoffs\n",
    "\n",
    "# container\n",
    "plt.figure(figsize = (12, 5))\n",
    "\n",
    "# subplots\n",
    "plot1 = plt.subplot(1, 2, 1)\n",
    "plot2 = plt.subplot(1, 2, 2)\n",
    "\n",
    "plot1.scatter(taxi['pickup_longitude'], taxi['pickup_latitude'], s = 1, color = '#003366')\n",
    "plot1.set_title('Pickup Locations')\n",
    "\n",
    "plot2.scatter(taxi['dropoff_longitude'], taxi['dropoff_latitude'], s = 1, color = '#ff8c3c')\n",
    "plot2.set_title('Dropoff Locations');\n",
    "\n",
    "plt.savefig('../images/scatterplots_all_pickups_and_dropoffs.png');"
   ]
  },
  {
   "cell_type": "markdown",
   "id": "bd5e3f06-36de-4cd8-a4a7-9949778d7735",
   "metadata": {},
   "source": [
    "The countours of the city of New York are quite visible in these two charts.  One can infer that the vast majority of the pickups and dropoffs in this dataset took place within city boundaries.<br><br>\n",
    "Based on research, NYC taxis that are licensed by the Taxi and Limousine Comission (TLC), cannot, by law, pickup rides outside the city boundaries.  The chart on the left, however, indicates otherwise.  Although not a lot in relative to the size of the dataset, many pickups occurred in New Jersey, and several others in Westchester County (north of The Bronx) as well as Nassau County (east of Queens).<br><br>\n",
    "If the dataset contained the actual pickup and dropoff addresses, then it would be very easy to get rid of those specific rows, but that's not the case.  There is, however, one way to get those addresses from the recorded longitude and latitude coordinates, by using the `googlemaps` API, but that would entail racking up some charges. So, it's best to hold on that, for now.<br><br>\n",
    "Based on consulted sources, about 90% of taxi pickup activity actually takes place within Manhattan, specially within its core, which is south of 96th Street.  The high concentration of pickups below that thorouhfare is clearly visible in the chart.  This is important to know because it indicates that the very few pickup points outside city boundaries should not weigh heavily on the data. So, with that in mind, and for the sake of this exercise, we'll consider the entire spatial longitude/latitude boundary as NYC as a whole.<br><br>\n",
    "As far as dropoff locations, once a passenger hails a cab, if the driver agrees, the passenger can be dropped off anywhere outside the city, even in another state.  The chart on the right basically illustrates that. There are a lot more dropoff points north of Manhattan's 96th Street, as well as outside Manhattan, especially Queens and Brooklyn.  Anyone familiar with the geography of the region will also notice a little cluster of dropoffs at Newark's international airport in New Jersey."
   ]
  },
  {
   "cell_type": "markdown",
   "id": "da256881-68be-4b5f-897a-602cec439c89",
   "metadata": {},
   "source": [
    "-----\n",
    "**New Column** `geodesic_distance`"
   ]
  },
  {
   "cell_type": "markdown",
   "id": "74790078-290b-43aa-8a21-dfc27533b602",
   "metadata": {},
   "source": [
    "Without pickup and dropoff addresses, one cannot determine actual street distance. Although the `googlemaps` API can determine that from the available longitude/latitude data (at a cost), there is another type of distance that can be calculated (at no cost) from this data: geodesic distance.<br>\n",
    ">**Definition**: _Geodesic distance is the shortest distance between two points on a curved surface, such as the Earth, measured along the surface itself rather than through it._\n",
    "\n",
    "We may be able to use this geodesic distance to help our model estimate a taxi fare. In order to calculate this distance, and build a column out of this data, we'll use one of python's libraries: `geopy`."
   ]
  },
  {
   "cell_type": "code",
   "execution_count": 90,
   "id": "a3e1adab-b64a-4fa0-8386-c855909f6ceb",
   "metadata": {},
   "outputs": [],
   "source": [
    "# import geodesic module\n",
    "from geopy.distance import geodesic\n",
    "# source: https://geopy.readthedocs.io/en/stable/"
   ]
  },
  {
   "cell_type": "markdown",
   "id": "f1a5feba-9231-4742-b2ed-228398fb722a",
   "metadata": {},
   "source": [
    "Now extract geodesic distance (in kilometers) from availabe coordinates and create a new column with this information for each row in the dataset."
   ]
  },
  {
   "cell_type": "code",
   "execution_count": 93,
   "id": "e27ce4ed-061e-4918-82a2-9e405dafab5a",
   "metadata": {},
   "outputs": [],
   "source": [
    "# apply get_geo_distance() from personal_library\n",
    "taxi['geodesic_distance'] = taxi.apply(lambda row: lu.get_geo_distance(\n",
    "                                                            row['pickup_longitude'], row['pickup_latitude'], \n",
    "                                                            row['dropoff_longitude'], row['dropoff_latitude']),\n",
    "                                                            axis=1)"
   ]
  },
  {
   "cell_type": "code",
   "execution_count": 94,
   "id": "1c8f0bd2-1020-4a05-a9f8-b06d39b681ee",
   "metadata": {},
   "outputs": [
    {
     "name": "stdout",
     "output_type": "stream",
     "text": [
      "<class 'pandas.core.frame.DataFrame'>\n",
      "RangeIndex: 54621 entries, 0 to 54620\n",
      "Data columns (total 13 columns):\n",
      " #   Column             Non-Null Count  Dtype         \n",
      "---  ------             --------------  -----         \n",
      " 0   key                54621 non-null  datetime64[ns]\n",
      " 1   fare_amount        54621 non-null  float64       \n",
      " 2   pickup_longitude   54621 non-null  float64       \n",
      " 3   pickup_latitude    54621 non-null  float64       \n",
      " 4   dropoff_longitude  54621 non-null  float64       \n",
      " 5   dropoff_latitude   54621 non-null  float64       \n",
      " 6   passenger_count    54621 non-null  int64         \n",
      " 7   year               54621 non-null  int32         \n",
      " 8   month              54621 non-null  object        \n",
      " 9   day_of_week        54621 non-null  object        \n",
      " 10  hour               54621 non-null  int32         \n",
      " 11  minute             54621 non-null  int32         \n",
      " 12  geodesic_distance  54621 non-null  float64       \n",
      "dtypes: datetime64[ns](1), float64(6), int32(3), int64(1), object(2)\n",
      "memory usage: 4.8+ MB\n"
     ]
    }
   ],
   "source": [
    "# confirm\n",
    "taxi.info()"
   ]
  },
  {
   "cell_type": "markdown",
   "id": "9ff2f911-cf7b-447c-a3f0-1b8f2fbd2cdd",
   "metadata": {},
   "source": [
    "The `geodesic_distance` column was successfully added and with the correct data type. Let's now check its contents and do some cleanup, if needed."
   ]
  },
  {
   "cell_type": "code",
   "execution_count": 97,
   "id": "a5f89dac-0bdd-4040-8925-ccbdd50e6c1b",
   "metadata": {},
   "outputs": [
    {
     "data": {
      "text/plain": [
       "count    54621.000000\n",
       "mean         3.290616\n",
       "std          3.545223\n",
       "min          0.000000\n",
       "25%          1.255383\n",
       "50%          2.138931\n",
       "75%          3.872992\n",
       "max         39.277375\n",
       "Name: geodesic_distance, dtype: float64"
      ]
     },
     "execution_count": 97,
     "metadata": {},
     "output_type": "execute_result"
    }
   ],
   "source": [
    "# stats\n",
    "taxi['geodesic_distance'].describe()"
   ]
  },
  {
   "cell_type": "markdown",
   "id": "4f975362-760f-4651-a1a9-c456d9f3c1d2",
   "metadata": {},
   "source": [
    "The average distance of 3.3km (2.1 miles) is realistic.  Per consulted sources, the actual average distance traveled by taxi in NYC is 2.6 miles.  Since we're using geodesic distances, rather than actual distances, the fact that the average for this dataset is lower is a good indicator.  Actual distances are always greater than geodesic distances because of street layouts, natural barriers like rivers, and local topography. Thanks to Manhattan's grid, the average difference between actual street distance and geodesic distance is about 15%, and for the outer boroughs it ranges from 20% to 25%. This is important to later estimate actual street distances. Therefore, the average geodesic distance of 2.1 miles would approximately be between 2.42 and 2.63 actual miles.  Once again, this is in alignment with the actual average.<br><br>\n",
    "The maximum recorded distance is also realistic at 34.5km (21.6 miles).  However it would make sense to make sure the `fare_amount` is in alignment with such distance.<br><br>\n",
    "Lastly, some distances are recorded as zero, which is inaccurate.  Take a look at these rows, quantify and if needed, impute the values or delete the records."
   ]
  },
  {
   "cell_type": "code",
   "execution_count": 99,
   "id": "19e30be6-453a-42ff-8183-07179f927779",
   "metadata": {},
   "outputs": [
    {
     "name": "stdout",
     "output_type": "stream",
     "text": [
      "Count: 634\n"
     ]
    }
   ],
   "source": [
    "# check zero distances\n",
    "print(f\"Count: {taxi[taxi['geodesic_distance'] == 0].shape[0]}\")"
   ]
  },
  {
   "cell_type": "code",
   "execution_count": 101,
   "id": "6985b93c-0fa1-46d1-bf23-a970a3b81cf7",
   "metadata": {},
   "outputs": [
    {
     "data": {
      "text/plain": [
       "count    634.000000\n",
       "mean      11.756751\n",
       "std       16.833937\n",
       "min        2.500000\n",
       "25%        4.500000\n",
       "50%        6.750000\n",
       "75%       10.100000\n",
       "max      250.000000\n",
       "Name: fare_amount, dtype: float64"
      ]
     },
     "execution_count": 101,
     "metadata": {},
     "output_type": "execute_result"
    }
   ],
   "source": [
    "# fare stats for these rows\n",
    "taxi[taxi['geodesic_distance'] == 0]['fare_amount'].describe()"
   ]
  },
  {
   "cell_type": "code",
   "execution_count": 103,
   "id": "419f1857-fc91-48ee-89ab-9be8b8d6a566",
   "metadata": {},
   "outputs": [
    {
     "data": {
      "text/html": [
       "<div>\n",
       "<style scoped>\n",
       "    .dataframe tbody tr th:only-of-type {\n",
       "        vertical-align: middle;\n",
       "    }\n",
       "\n",
       "    .dataframe tbody tr th {\n",
       "        vertical-align: top;\n",
       "    }\n",
       "\n",
       "    .dataframe thead th {\n",
       "        text-align: right;\n",
       "    }\n",
       "</style>\n",
       "<table border=\"1\" class=\"dataframe\">\n",
       "  <thead>\n",
       "    <tr style=\"text-align: right;\">\n",
       "      <th></th>\n",
       "      <th>pickup_longitude</th>\n",
       "      <th>pickup_latitude</th>\n",
       "      <th>dropoff_longitude</th>\n",
       "      <th>dropoff_latitude</th>\n",
       "    </tr>\n",
       "  </thead>\n",
       "  <tbody>\n",
       "    <tr>\n",
       "      <th>15</th>\n",
       "      <td>-73.983737</td>\n",
       "      <td>40.767842</td>\n",
       "      <td>-73.983737</td>\n",
       "      <td>40.767842</td>\n",
       "    </tr>\n",
       "    <tr>\n",
       "      <th>38</th>\n",
       "      <td>-73.959046</td>\n",
       "      <td>40.819685</td>\n",
       "      <td>-73.959046</td>\n",
       "      <td>40.819685</td>\n",
       "    </tr>\n",
       "    <tr>\n",
       "      <th>154</th>\n",
       "      <td>-74.011069</td>\n",
       "      <td>40.786596</td>\n",
       "      <td>-74.011069</td>\n",
       "      <td>40.786596</td>\n",
       "    </tr>\n",
       "    <tr>\n",
       "      <th>206</th>\n",
       "      <td>-73.942443</td>\n",
       "      <td>40.751632</td>\n",
       "      <td>-73.942443</td>\n",
       "      <td>40.751632</td>\n",
       "    </tr>\n",
       "    <tr>\n",
       "      <th>307</th>\n",
       "      <td>-73.918663</td>\n",
       "      <td>40.771946</td>\n",
       "      <td>-73.918663</td>\n",
       "      <td>40.771946</td>\n",
       "    </tr>\n",
       "    <tr>\n",
       "      <th>...</th>\n",
       "      <td>...</td>\n",
       "      <td>...</td>\n",
       "      <td>...</td>\n",
       "      <td>...</td>\n",
       "    </tr>\n",
       "    <tr>\n",
       "      <th>54287</th>\n",
       "      <td>-74.002977</td>\n",
       "      <td>40.739162</td>\n",
       "      <td>-74.002977</td>\n",
       "      <td>40.739162</td>\n",
       "    </tr>\n",
       "    <tr>\n",
       "      <th>54385</th>\n",
       "      <td>-73.969007</td>\n",
       "      <td>40.762015</td>\n",
       "      <td>-73.969007</td>\n",
       "      <td>40.762015</td>\n",
       "    </tr>\n",
       "    <tr>\n",
       "      <th>54431</th>\n",
       "      <td>-73.863300</td>\n",
       "      <td>40.769417</td>\n",
       "      <td>-73.863300</td>\n",
       "      <td>40.769417</td>\n",
       "    </tr>\n",
       "    <tr>\n",
       "      <th>54598</th>\n",
       "      <td>-73.928643</td>\n",
       "      <td>40.743755</td>\n",
       "      <td>-73.928643</td>\n",
       "      <td>40.743755</td>\n",
       "    </tr>\n",
       "    <tr>\n",
       "      <th>54615</th>\n",
       "      <td>-73.969452</td>\n",
       "      <td>40.631907</td>\n",
       "      <td>-73.969452</td>\n",
       "      <td>40.631907</td>\n",
       "    </tr>\n",
       "  </tbody>\n",
       "</table>\n",
       "<p>634 rows × 4 columns</p>\n",
       "</div>"
      ],
      "text/plain": [
       "       pickup_longitude  pickup_latitude  dropoff_longitude  dropoff_latitude\n",
       "15           -73.983737        40.767842         -73.983737         40.767842\n",
       "38           -73.959046        40.819685         -73.959046         40.819685\n",
       "154          -74.011069        40.786596         -74.011069         40.786596\n",
       "206          -73.942443        40.751632         -73.942443         40.751632\n",
       "307          -73.918663        40.771946         -73.918663         40.771946\n",
       "...                 ...              ...                ...               ...\n",
       "54287        -74.002977        40.739162         -74.002977         40.739162\n",
       "54385        -73.969007        40.762015         -73.969007         40.762015\n",
       "54431        -73.863300        40.769417         -73.863300         40.769417\n",
       "54598        -73.928643        40.743755         -73.928643         40.743755\n",
       "54615        -73.969452        40.631907         -73.969452         40.631907\n",
       "\n",
       "[634 rows x 4 columns]"
      ]
     },
     "execution_count": 103,
     "metadata": {},
     "output_type": "execute_result"
    }
   ],
   "source": [
    "# check coordinates\n",
    "taxi[taxi['geodesic_distance'] == 0][['pickup_longitude', 'pickup_latitude', 'dropoff_longitude', 'dropoff_latitude']]"
   ]
  },
  {
   "cell_type": "markdown",
   "id": "101fe028-513e-44b3-87c5-b01079bdb9b8",
   "metadata": {},
   "source": [
    "Pickup and dropoff coordinates are exactly the same.  That's why the calculated distance is zero!<br>\n",
    "Having erroneous coordinate data can bias the model, since this is just 634 rows (1.16%) of remaining rows, it's better to also drop these rows."
   ]
  },
  {
   "cell_type": "code",
   "execution_count": 105,
   "id": "f1f15c62-bbd9-4f78-b530-bcf1284a8df2",
   "metadata": {},
   "outputs": [
    {
     "name": "stdout",
     "output_type": "stream",
     "text": [
      "Before: (54621, 13)\n",
      "After: (53987, 13)\n"
     ]
    }
   ],
   "source": [
    "print(f'Before: {taxi.shape}')\n",
    "taxi.drop(index = taxi[taxi['geodesic_distance'] == 0].index, inplace = True)\n",
    "taxi.reset_index(drop = True, inplace = True)\n",
    "print(f'After: {taxi.shape}')"
   ]
  },
  {
   "cell_type": "code",
   "execution_count": 107,
   "id": "10a91cac-8f0e-4fa5-8ab2-9d1f7495151a",
   "metadata": {},
   "outputs": [
    {
     "data": {
      "text/plain": [
       "count    53987.000000\n",
       "mean         3.329260\n",
       "std          3.547894\n",
       "min          0.000084\n",
       "25%          1.282720\n",
       "50%          2.163731\n",
       "75%          3.905444\n",
       "max         39.277375\n",
       "Name: geodesic_distance, dtype: float64"
      ]
     },
     "execution_count": 107,
     "metadata": {},
     "output_type": "execute_result"
    }
   ],
   "source": [
    "# check stats again\n",
    "taxi['geodesic_distance'].describe()"
   ]
  },
  {
   "cell_type": "markdown",
   "id": "6e66dbc5-aaeb-41c0-9492-c217c098520c",
   "metadata": {},
   "source": [
    "There are no more zero distances, but there are still some unrealistically low distances.  The base fare for NYC taxis is to cover the first fifth of a mile (0.2 street miles, or 0.322 kms). Since this is a very short distance, let's use the conversion factor of 1.15 to convert back to geodesic distance, and that would be 0.28 kms. Check for any rides where geodesic distance is below that value."
   ]
  },
  {
   "cell_type": "code",
   "execution_count": 201,
   "id": "4699dbe8-361b-436b-b44d-4916932e9794",
   "metadata": {},
   "outputs": [
    {
     "name": "stdout",
     "output_type": "stream",
     "text": [
      "Count: 634\n"
     ]
    }
   ],
   "source": [
    "# distances below 0.28\n",
    "print(f\"Count: {taxi[taxi['geodesic_distance'] < 0.28].shape[0]}\")"
   ]
  },
  {
   "cell_type": "markdown",
   "id": "0495a7ed-9c03-4aea-ac18-b81916e265ae",
   "metadata": {},
   "source": [
    "Interestingly, this is also 634 records. Let's take a look at the corresponding coordinates."
   ]
  },
  {
   "cell_type": "code",
   "execution_count": 207,
   "id": "d6b6efe7-25d0-4391-a159-e6553cf60921",
   "metadata": {},
   "outputs": [
    {
     "data": {
      "text/html": [
       "<div>\n",
       "<style scoped>\n",
       "    .dataframe tbody tr th:only-of-type {\n",
       "        vertical-align: middle;\n",
       "    }\n",
       "\n",
       "    .dataframe tbody tr th {\n",
       "        vertical-align: top;\n",
       "    }\n",
       "\n",
       "    .dataframe thead th {\n",
       "        text-align: right;\n",
       "    }\n",
       "</style>\n",
       "<table border=\"1\" class=\"dataframe\">\n",
       "  <thead>\n",
       "    <tr style=\"text-align: right;\">\n",
       "      <th></th>\n",
       "      <th>pickup_longitude</th>\n",
       "      <th>pickup_latitude</th>\n",
       "      <th>dropoff_longitude</th>\n",
       "      <th>dropoff_latitude</th>\n",
       "    </tr>\n",
       "  </thead>\n",
       "  <tbody>\n",
       "    <tr>\n",
       "      <th>3</th>\n",
       "      <td>-74.005897</td>\n",
       "      <td>40.770640</td>\n",
       "      <td>-74.008753</td>\n",
       "      <td>40.769735</td>\n",
       "    </tr>\n",
       "    <tr>\n",
       "      <th>101</th>\n",
       "      <td>-73.981743</td>\n",
       "      <td>40.770534</td>\n",
       "      <td>-73.981923</td>\n",
       "      <td>40.771086</td>\n",
       "    </tr>\n",
       "    <tr>\n",
       "      <th>156</th>\n",
       "      <td>-73.970565</td>\n",
       "      <td>40.756687</td>\n",
       "      <td>-73.970555</td>\n",
       "      <td>40.756732</td>\n",
       "    </tr>\n",
       "    <tr>\n",
       "      <th>189</th>\n",
       "      <td>-73.985727</td>\n",
       "      <td>40.763775</td>\n",
       "      <td>-73.987643</td>\n",
       "      <td>40.762962</td>\n",
       "    </tr>\n",
       "    <tr>\n",
       "      <th>267</th>\n",
       "      <td>-73.794263</td>\n",
       "      <td>40.656465</td>\n",
       "      <td>-73.794487</td>\n",
       "      <td>40.656497</td>\n",
       "    </tr>\n",
       "  </tbody>\n",
       "</table>\n",
       "</div>"
      ],
      "text/plain": [
       "     pickup_longitude  pickup_latitude  dropoff_longitude  dropoff_latitude\n",
       "3          -74.005897        40.770640         -74.008753         40.769735\n",
       "101        -73.981743        40.770534         -73.981923         40.771086\n",
       "156        -73.970565        40.756687         -73.970555         40.756732\n",
       "189        -73.985727        40.763775         -73.987643         40.762962\n",
       "267        -73.794263        40.656465         -73.794487         40.656497"
      ]
     },
     "execution_count": 207,
     "metadata": {},
     "output_type": "execute_result"
    }
   ],
   "source": [
    "taxi[taxi['geodesic_distance'] < 0.28][['pickup_longitude', 'pickup_latitude', 'dropoff_longitude', 'dropoff_latitude']].head()"
   ]
  },
  {
   "cell_type": "markdown",
   "id": "db1e61e7-5a04-4487-bbbc-3c1e90186daa",
   "metadata": {},
   "source": [
    "These coordinates seem accurate. At first glance, given the very small change in longitude (east-west travel), and the slightly greater change in latitude (north-south travel), these look like very short rides along Manhattan's avenues, which all run north-south or viceversa.<br><br>\n",
    "However, since the base fare of 2.50 just covers the first fifth of a mile, the shortest possible ride should be 0.2 miles, or in the case of these geodesic distances approximately 0.28 kms.  In Manhattan alone, a distance of 0.28 kms, or basically 280 meters is just four blocks (i.e. a leisure walk along Fifth Avenue from 38th St to 34th St while taking selfies with the Empire State building in the back). Thus, having a taxi ride shorter than four city blocks is highly unlikely.  As a result, it's best to also drop these 634 rows in order to retain accurate distances."
   ]
  },
  {
   "cell_type": "code",
   "execution_count": 110,
   "id": "aa6a8ee2-15bb-454a-86f8-45fce18796b1",
   "metadata": {},
   "outputs": [
    {
     "name": "stdout",
     "output_type": "stream",
     "text": [
      "Before: (53987, 13)\n",
      "After: (53353, 13)\n"
     ]
    }
   ],
   "source": [
    "print(f'Before: {taxi.shape}')\n",
    "taxi.drop(index = taxi[taxi['geodesic_distance'] < 0.28].index, inplace = True)\n",
    "taxi.reset_index(drop = True, inplace = True)\n",
    "print(f'After: {taxi.shape}')"
   ]
  },
  {
   "cell_type": "code",
   "execution_count": 112,
   "id": "4acff426-8878-49b7-b659-ae3fe1902dfc",
   "metadata": {},
   "outputs": [
    {
     "data": {
      "text/plain": [
       "count    53353.000000\n",
       "mean         3.367456\n",
       "std          3.551450\n",
       "min          0.280141\n",
       "25%          1.309204\n",
       "50%          2.192172\n",
       "75%          3.937663\n",
       "max         39.277375\n",
       "Name: geodesic_distance, dtype: float64"
      ]
     },
     "execution_count": 112,
     "metadata": {},
     "output_type": "execute_result"
    }
   ],
   "source": [
    "# check stats again\n",
    "taxi['geodesic_distance'].describe()"
   ]
  },
  {
   "cell_type": "markdown",
   "id": "62635f1c-b664-4d9e-9a21-3f6dc06b858f",
   "metadata": {},
   "source": [
    "This range of distances is accurate.<br>\n",
    "Take one more look at the stats for specific columns."
   ]
  },
  {
   "cell_type": "code",
   "execution_count": 120,
   "id": "de99ec9b-0773-41db-b7e4-ce416781e8d5",
   "metadata": {},
   "outputs": [
    {
     "data": {
      "text/html": [
       "<div>\n",
       "<style scoped>\n",
       "    .dataframe tbody tr th:only-of-type {\n",
       "        vertical-align: middle;\n",
       "    }\n",
       "\n",
       "    .dataframe tbody tr th {\n",
       "        vertical-align: top;\n",
       "    }\n",
       "\n",
       "    .dataframe thead th {\n",
       "        text-align: right;\n",
       "    }\n",
       "</style>\n",
       "<table border=\"1\" class=\"dataframe\">\n",
       "  <thead>\n",
       "    <tr style=\"text-align: right;\">\n",
       "      <th></th>\n",
       "      <th>fare_amount</th>\n",
       "      <th>pickup_longitude</th>\n",
       "      <th>pickup_latitude</th>\n",
       "      <th>dropoff_longitude</th>\n",
       "      <th>dropoff_latitude</th>\n",
       "      <th>geodesic_distance</th>\n",
       "    </tr>\n",
       "  </thead>\n",
       "  <tbody>\n",
       "    <tr>\n",
       "      <th>count</th>\n",
       "      <td>53353.000000</td>\n",
       "      <td>53353.000000</td>\n",
       "      <td>53353.000000</td>\n",
       "      <td>53353.000000</td>\n",
       "      <td>53353.000000</td>\n",
       "      <td>53353.000000</td>\n",
       "    </tr>\n",
       "    <tr>\n",
       "      <th>mean</th>\n",
       "      <td>11.161798</td>\n",
       "      <td>-73.975967</td>\n",
       "      <td>40.750936</td>\n",
       "      <td>-73.974997</td>\n",
       "      <td>40.751339</td>\n",
       "      <td>3.367456</td>\n",
       "    </tr>\n",
       "    <tr>\n",
       "      <th>std</th>\n",
       "      <td>9.195708</td>\n",
       "      <td>0.033339</td>\n",
       "      <td>0.026554</td>\n",
       "      <td>0.032972</td>\n",
       "      <td>0.030464</td>\n",
       "      <td>3.551450</td>\n",
       "    </tr>\n",
       "    <tr>\n",
       "      <th>min</th>\n",
       "      <td>2.500000</td>\n",
       "      <td>-74.185481</td>\n",
       "      <td>40.528705</td>\n",
       "      <td>-74.247136</td>\n",
       "      <td>40.517088</td>\n",
       "      <td>0.280141</td>\n",
       "    </tr>\n",
       "    <tr>\n",
       "      <th>25%</th>\n",
       "      <td>6.000000</td>\n",
       "      <td>-73.992185</td>\n",
       "      <td>40.736700</td>\n",
       "      <td>-73.991557</td>\n",
       "      <td>40.735798</td>\n",
       "      <td>1.309204</td>\n",
       "    </tr>\n",
       "    <tr>\n",
       "      <th>50%</th>\n",
       "      <td>8.500000</td>\n",
       "      <td>-73.982164</td>\n",
       "      <td>40.753322</td>\n",
       "      <td>-73.980635</td>\n",
       "      <td>40.753957</td>\n",
       "      <td>2.192172</td>\n",
       "    </tr>\n",
       "    <tr>\n",
       "      <th>75%</th>\n",
       "      <td>12.500000</td>\n",
       "      <td>-73.968765</td>\n",
       "      <td>40.767472</td>\n",
       "      <td>-73.965875</td>\n",
       "      <td>40.768343</td>\n",
       "      <td>3.937663</td>\n",
       "    </tr>\n",
       "    <tr>\n",
       "      <th>max</th>\n",
       "      <td>164.500000</td>\n",
       "      <td>-73.718987</td>\n",
       "      <td>40.906545</td>\n",
       "      <td>-73.708780</td>\n",
       "      <td>40.912382</td>\n",
       "      <td>39.277375</td>\n",
       "    </tr>\n",
       "  </tbody>\n",
       "</table>\n",
       "</div>"
      ],
      "text/plain": [
       "        fare_amount  pickup_longitude  pickup_latitude  dropoff_longitude  \\\n",
       "count  53353.000000      53353.000000     53353.000000       53353.000000   \n",
       "mean      11.161798        -73.975967        40.750936         -73.974997   \n",
       "std        9.195708          0.033339         0.026554           0.032972   \n",
       "min        2.500000        -74.185481        40.528705         -74.247136   \n",
       "25%        6.000000        -73.992185        40.736700         -73.991557   \n",
       "50%        8.500000        -73.982164        40.753322         -73.980635   \n",
       "75%       12.500000        -73.968765        40.767472         -73.965875   \n",
       "max      164.500000        -73.718987        40.906545         -73.708780   \n",
       "\n",
       "       dropoff_latitude  geodesic_distance  \n",
       "count      53353.000000       53353.000000  \n",
       "mean          40.751339           3.367456  \n",
       "std            0.030464           3.551450  \n",
       "min           40.517088           0.280141  \n",
       "25%           40.735798           1.309204  \n",
       "50%           40.753957           2.192172  \n",
       "75%           40.768343           3.937663  \n",
       "max           40.912382          39.277375  "
      ]
     },
     "execution_count": 120,
     "metadata": {},
     "output_type": "execute_result"
    }
   ],
   "source": [
    "taxi[['fare_amount', 'pickup_longitude', 'pickup_latitude', 'dropoff_longitude', 'dropoff_latitude', 'geodesic_distance']].describe()"
   ]
  },
  {
   "cell_type": "markdown",
   "id": "f5b7aa31-5e2a-40b7-a2c1-c30ddd6ff5f2",
   "metadata": {},
   "source": [
    "All the stats look accurate.<br>\n",
    "Now that the data is clean, let's take another look at the pickups and dropoffs."
   ]
  },
  {
   "cell_type": "code",
   "execution_count": 124,
   "id": "428194cc-1a37-4d62-8fa7-3637837ac34d",
   "metadata": {},
   "outputs": [
    {
     "data": {
      "image/png": "[encoded data removed]",
      "text/plain": [
       "<Figure size 1200x500 with 2 Axes>"
      ]
     },
     "metadata": {},
     "output_type": "display_data"
    }
   ],
   "source": [
    "# scatter plots of pickups and dropoffs\n",
    "\n",
    "# container\n",
    "plt.figure(figsize = (12, 5))\n",
    "\n",
    "# subplots\n",
    "plot1 = plt.subplot(1, 2, 1)\n",
    "plot2 = plt.subplot(1, 2, 2)\n",
    "\n",
    "plot1.scatter(taxi['pickup_longitude'], taxi['pickup_latitude'], s = 1, color = '#003366')\n",
    "plot1.set_title('Pickup Locations')\n",
    "\n",
    "plot2.scatter(taxi['dropoff_longitude'], taxi['dropoff_latitude'], s = 1, color = '#ff8c3c')\n",
    "plot2.set_title('Dropoff Locations');\n",
    "\n",
    "plt.savefig('../images/scatterplots_all_pickups_and_dropoffs2.png');"
   ]
  },
  {
   "cell_type": "markdown",
   "id": "c6dbba36-9d3d-4cfb-a95f-1e8db5e94a2b",
   "metadata": {},
   "source": [
    "The charts paint an accurate picture of pickups and dropoffs.<br>\n",
    "Lastly, let's take a quick look at the `key` column to confirm every time stamp is unique."
   ]
  },
  {
   "cell_type": "markdown",
   "id": "f2509cfe-cc66-4557-aeb3-461c543e4611",
   "metadata": {},
   "source": [
    "-----\n",
    "**Column**: `key`"
   ]
  },
  {
   "cell_type": "code",
   "execution_count": 138,
   "id": "13234da6-c5e1-41a3-a858-eeed4f596931",
   "metadata": {},
   "outputs": [
    {
     "data": {
      "text/plain": [
       "0"
      ]
     },
     "execution_count": 138,
     "metadata": {},
     "output_type": "execute_result"
    }
   ],
   "source": [
    "taxi['key'].duplicated().sum()"
   ]
  },
  {
   "cell_type": "markdown",
   "id": "41c6fb27-440a-44d5-9bdc-7a4b7071d8da",
   "metadata": {},
   "source": [
    "There are zero duplicates, every row is its own unique ride.  Let's make the `key` column the index for this clean dataset."
   ]
  },
  {
   "cell_type": "code",
   "execution_count": 141,
   "id": "10cb45fe-ddda-45ba-9606-22228f560561",
   "metadata": {},
   "outputs": [],
   "source": [
    "# set index\n",
    "taxi.set_index('key', inplace = True)\n",
    "# sort index\n",
    "taxi.sort_index(inplace = True)"
   ]
  },
  {
   "cell_type": "code",
   "execution_count": 143,
   "id": "ce718812-f6f0-4cc9-95be-f71e79610921",
   "metadata": {},
   "outputs": [
    {
     "data": {
      "text/html": [
       "<div>\n",
       "<style scoped>\n",
       "    .dataframe tbody tr th:only-of-type {\n",
       "        vertical-align: middle;\n",
       "    }\n",
       "\n",
       "    .dataframe tbody tr th {\n",
       "        vertical-align: top;\n",
       "    }\n",
       "\n",
       "    .dataframe thead th {\n",
       "        text-align: right;\n",
       "    }\n",
       "</style>\n",
       "<table border=\"1\" class=\"dataframe\">\n",
       "  <thead>\n",
       "    <tr style=\"text-align: right;\">\n",
       "      <th></th>\n",
       "      <th>fare_amount</th>\n",
       "      <th>pickup_longitude</th>\n",
       "      <th>pickup_latitude</th>\n",
       "      <th>dropoff_longitude</th>\n",
       "      <th>dropoff_latitude</th>\n",
       "      <th>passenger_count</th>\n",
       "      <th>year</th>\n",
       "      <th>month</th>\n",
       "      <th>day_of_week</th>\n",
       "      <th>hour</th>\n",
       "      <th>minute</th>\n",
       "      <th>geodesic_distance</th>\n",
       "    </tr>\n",
       "    <tr>\n",
       "      <th>key</th>\n",
       "      <th></th>\n",
       "      <th></th>\n",
       "      <th></th>\n",
       "      <th></th>\n",
       "      <th></th>\n",
       "      <th></th>\n",
       "      <th></th>\n",
       "      <th></th>\n",
       "      <th></th>\n",
       "      <th></th>\n",
       "      <th></th>\n",
       "      <th></th>\n",
       "    </tr>\n",
       "  </thead>\n",
       "  <tbody>\n",
       "    <tr>\n",
       "      <th>2009-01-01 00:48:11.000000200</th>\n",
       "      <td>11.0</td>\n",
       "      <td>-73.993578</td>\n",
       "      <td>40.721298</td>\n",
       "      <td>-73.967109</td>\n",
       "      <td>40.756657</td>\n",
       "      <td>4</td>\n",
       "      <td>2009</td>\n",
       "      <td>January</td>\n",
       "      <td>Thursday</td>\n",
       "      <td>0</td>\n",
       "      <td>48</td>\n",
       "      <td>4.518465</td>\n",
       "    </tr>\n",
       "    <tr>\n",
       "      <th>2009-01-01 00:54:13.000000100</th>\n",
       "      <td>12.2</td>\n",
       "      <td>-73.985358</td>\n",
       "      <td>40.744602</td>\n",
       "      <td>-73.956073</td>\n",
       "      <td>40.778083</td>\n",
       "      <td>2</td>\n",
       "      <td>2009</td>\n",
       "      <td>January</td>\n",
       "      <td>Thursday</td>\n",
       "      <td>0</td>\n",
       "      <td>54</td>\n",
       "      <td>4.465243</td>\n",
       "    </tr>\n",
       "    <tr>\n",
       "      <th>2009-01-01 01:07:13.000000100</th>\n",
       "      <td>5.4</td>\n",
       "      <td>-73.978859</td>\n",
       "      <td>40.750516</td>\n",
       "      <td>-73.968175</td>\n",
       "      <td>40.758468</td>\n",
       "      <td>1</td>\n",
       "      <td>2009</td>\n",
       "      <td>January</td>\n",
       "      <td>Thursday</td>\n",
       "      <td>1</td>\n",
       "      <td>7</td>\n",
       "      <td>1.262464</td>\n",
       "    </tr>\n",
       "    <tr>\n",
       "      <th>2009-01-01 01:12:02.000000100</th>\n",
       "      <td>11.0</td>\n",
       "      <td>-73.987317</td>\n",
       "      <td>40.768627</td>\n",
       "      <td>-74.007565</td>\n",
       "      <td>40.740797</td>\n",
       "      <td>1</td>\n",
       "      <td>2009</td>\n",
       "      <td>January</td>\n",
       "      <td>Thursday</td>\n",
       "      <td>1</td>\n",
       "      <td>12</td>\n",
       "      <td>3.531973</td>\n",
       "    </tr>\n",
       "    <tr>\n",
       "      <th>2009-01-01 04:34:56.000000100</th>\n",
       "      <td>8.2</td>\n",
       "      <td>-73.988965</td>\n",
       "      <td>40.736905</td>\n",
       "      <td>-74.001923</td>\n",
       "      <td>40.747579</td>\n",
       "      <td>1</td>\n",
       "      <td>2009</td>\n",
       "      <td>January</td>\n",
       "      <td>Thursday</td>\n",
       "      <td>4</td>\n",
       "      <td>34</td>\n",
       "      <td>1.613340</td>\n",
       "    </tr>\n",
       "  </tbody>\n",
       "</table>\n",
       "</div>"
      ],
      "text/plain": [
       "                               fare_amount  pickup_longitude  pickup_latitude  \\\n",
       "key                                                                             \n",
       "2009-01-01 00:48:11.000000200         11.0        -73.993578        40.721298   \n",
       "2009-01-01 00:54:13.000000100         12.2        -73.985358        40.744602   \n",
       "2009-01-01 01:07:13.000000100          5.4        -73.978859        40.750516   \n",
       "2009-01-01 01:12:02.000000100         11.0        -73.987317        40.768627   \n",
       "2009-01-01 04:34:56.000000100          8.2        -73.988965        40.736905   \n",
       "\n",
       "                               dropoff_longitude  dropoff_latitude  \\\n",
       "key                                                                  \n",
       "2009-01-01 00:48:11.000000200         -73.967109         40.756657   \n",
       "2009-01-01 00:54:13.000000100         -73.956073         40.778083   \n",
       "2009-01-01 01:07:13.000000100         -73.968175         40.758468   \n",
       "2009-01-01 01:12:02.000000100         -74.007565         40.740797   \n",
       "2009-01-01 04:34:56.000000100         -74.001923         40.747579   \n",
       "\n",
       "                               passenger_count  year    month day_of_week  \\\n",
       "key                                                                         \n",
       "2009-01-01 00:48:11.000000200                4  2009  January    Thursday   \n",
       "2009-01-01 00:54:13.000000100                2  2009  January    Thursday   \n",
       "2009-01-01 01:07:13.000000100                1  2009  January    Thursday   \n",
       "2009-01-01 01:12:02.000000100                1  2009  January    Thursday   \n",
       "2009-01-01 04:34:56.000000100                1  2009  January    Thursday   \n",
       "\n",
       "                               hour  minute  geodesic_distance  \n",
       "key                                                             \n",
       "2009-01-01 00:48:11.000000200     0      48           4.518465  \n",
       "2009-01-01 00:54:13.000000100     0      54           4.465243  \n",
       "2009-01-01 01:07:13.000000100     1       7           1.262464  \n",
       "2009-01-01 01:12:02.000000100     1      12           3.531973  \n",
       "2009-01-01 04:34:56.000000100     4      34           1.613340  "
      ]
     },
     "execution_count": 143,
     "metadata": {},
     "output_type": "execute_result"
    }
   ],
   "source": [
    "# confirm head\n",
    "taxi.head()"
   ]
  },
  {
   "cell_type": "code",
   "execution_count": 145,
   "id": "a2cd7d26-f057-4d00-aeea-a01aafddf5f2",
   "metadata": {},
   "outputs": [
    {
     "data": {
      "text/html": [
       "<div>\n",
       "<style scoped>\n",
       "    .dataframe tbody tr th:only-of-type {\n",
       "        vertical-align: middle;\n",
       "    }\n",
       "\n",
       "    .dataframe tbody tr th {\n",
       "        vertical-align: top;\n",
       "    }\n",
       "\n",
       "    .dataframe thead th {\n",
       "        text-align: right;\n",
       "    }\n",
       "</style>\n",
       "<table border=\"1\" class=\"dataframe\">\n",
       "  <thead>\n",
       "    <tr style=\"text-align: right;\">\n",
       "      <th></th>\n",
       "      <th>fare_amount</th>\n",
       "      <th>pickup_longitude</th>\n",
       "      <th>pickup_latitude</th>\n",
       "      <th>dropoff_longitude</th>\n",
       "      <th>dropoff_latitude</th>\n",
       "      <th>passenger_count</th>\n",
       "      <th>year</th>\n",
       "      <th>month</th>\n",
       "      <th>day_of_week</th>\n",
       "      <th>hour</th>\n",
       "      <th>minute</th>\n",
       "      <th>geodesic_distance</th>\n",
       "    </tr>\n",
       "    <tr>\n",
       "      <th>key</th>\n",
       "      <th></th>\n",
       "      <th></th>\n",
       "      <th></th>\n",
       "      <th></th>\n",
       "      <th></th>\n",
       "      <th></th>\n",
       "      <th></th>\n",
       "      <th></th>\n",
       "      <th></th>\n",
       "      <th></th>\n",
       "      <th></th>\n",
       "      <th></th>\n",
       "    </tr>\n",
       "  </thead>\n",
       "  <tbody>\n",
       "    <tr>\n",
       "      <th>2014-12-31 21:09:00.000000105</th>\n",
       "      <td>8.0</td>\n",
       "      <td>-74.002937</td>\n",
       "      <td>40.760222</td>\n",
       "      <td>-74.005120</td>\n",
       "      <td>40.742810</td>\n",
       "      <td>6</td>\n",
       "      <td>2014</td>\n",
       "      <td>December</td>\n",
       "      <td>Wednesday</td>\n",
       "      <td>21</td>\n",
       "      <td>9</td>\n",
       "      <td>1.942356</td>\n",
       "    </tr>\n",
       "    <tr>\n",
       "      <th>2014-12-31 21:12:05.000000400</th>\n",
       "      <td>9.5</td>\n",
       "      <td>-73.983158</td>\n",
       "      <td>40.749599</td>\n",
       "      <td>-73.995832</td>\n",
       "      <td>40.764279</td>\n",
       "      <td>1</td>\n",
       "      <td>2014</td>\n",
       "      <td>December</td>\n",
       "      <td>Wednesday</td>\n",
       "      <td>21</td>\n",
       "      <td>12</td>\n",
       "      <td>1.950120</td>\n",
       "    </tr>\n",
       "    <tr>\n",
       "      <th>2014-12-31 21:14:00.000000530</th>\n",
       "      <td>16.0</td>\n",
       "      <td>-73.983393</td>\n",
       "      <td>40.722055</td>\n",
       "      <td>-74.006947</td>\n",
       "      <td>40.741715</td>\n",
       "      <td>2</td>\n",
       "      <td>2014</td>\n",
       "      <td>December</td>\n",
       "      <td>Wednesday</td>\n",
       "      <td>21</td>\n",
       "      <td>14</td>\n",
       "      <td>2.953889</td>\n",
       "    </tr>\n",
       "    <tr>\n",
       "      <th>2014-12-31 21:56:56.000000400</th>\n",
       "      <td>10.0</td>\n",
       "      <td>-73.983126</td>\n",
       "      <td>40.773427</td>\n",
       "      <td>-73.956101</td>\n",
       "      <td>40.773936</td>\n",
       "      <td>1</td>\n",
       "      <td>2014</td>\n",
       "      <td>December</td>\n",
       "      <td>Wednesday</td>\n",
       "      <td>21</td>\n",
       "      <td>56</td>\n",
       "      <td>2.282213</td>\n",
       "    </tr>\n",
       "    <tr>\n",
       "      <th>2014-12-31 22:04:00.000000175</th>\n",
       "      <td>7.0</td>\n",
       "      <td>-73.975483</td>\n",
       "      <td>40.757470</td>\n",
       "      <td>-73.981932</td>\n",
       "      <td>40.775267</td>\n",
       "      <td>1</td>\n",
       "      <td>2014</td>\n",
       "      <td>December</td>\n",
       "      <td>Wednesday</td>\n",
       "      <td>22</td>\n",
       "      <td>4</td>\n",
       "      <td>2.049981</td>\n",
       "    </tr>\n",
       "  </tbody>\n",
       "</table>\n",
       "</div>"
      ],
      "text/plain": [
       "                               fare_amount  pickup_longitude  pickup_latitude  \\\n",
       "key                                                                             \n",
       "2014-12-31 21:09:00.000000105          8.0        -74.002937        40.760222   \n",
       "2014-12-31 21:12:05.000000400          9.5        -73.983158        40.749599   \n",
       "2014-12-31 21:14:00.000000530         16.0        -73.983393        40.722055   \n",
       "2014-12-31 21:56:56.000000400         10.0        -73.983126        40.773427   \n",
       "2014-12-31 22:04:00.000000175          7.0        -73.975483        40.757470   \n",
       "\n",
       "                               dropoff_longitude  dropoff_latitude  \\\n",
       "key                                                                  \n",
       "2014-12-31 21:09:00.000000105         -74.005120         40.742810   \n",
       "2014-12-31 21:12:05.000000400         -73.995832         40.764279   \n",
       "2014-12-31 21:14:00.000000530         -74.006947         40.741715   \n",
       "2014-12-31 21:56:56.000000400         -73.956101         40.773936   \n",
       "2014-12-31 22:04:00.000000175         -73.981932         40.775267   \n",
       "\n",
       "                               passenger_count  year     month day_of_week  \\\n",
       "key                                                                          \n",
       "2014-12-31 21:09:00.000000105                6  2014  December   Wednesday   \n",
       "2014-12-31 21:12:05.000000400                1  2014  December   Wednesday   \n",
       "2014-12-31 21:14:00.000000530                2  2014  December   Wednesday   \n",
       "2014-12-31 21:56:56.000000400                1  2014  December   Wednesday   \n",
       "2014-12-31 22:04:00.000000175                1  2014  December   Wednesday   \n",
       "\n",
       "                               hour  minute  geodesic_distance  \n",
       "key                                                             \n",
       "2014-12-31 21:09:00.000000105    21       9           1.942356  \n",
       "2014-12-31 21:12:05.000000400    21      12           1.950120  \n",
       "2014-12-31 21:14:00.000000530    21      14           2.953889  \n",
       "2014-12-31 21:56:56.000000400    21      56           2.282213  \n",
       "2014-12-31 22:04:00.000000175    22       4           2.049981  "
      ]
     },
     "execution_count": 145,
     "metadata": {},
     "output_type": "execute_result"
    }
   ],
   "source": [
    "# confirm tail\n",
    "taxi.tail()"
   ]
  },
  {
   "cell_type": "markdown",
   "id": "2806d620-9e31-4b3d-bee1-43a679e858a4",
   "metadata": {},
   "source": [
    "----\n",
    "**Summary**<br>\n",
    "This dataset is clean and ready for exploratory data analysis.  A total of 6,647 rows were discarded, which is 11% of the initial dataset.  Save a copy for future use."
   ]
  },
  {
   "cell_type": "code",
   "execution_count": 151,
   "id": "39e9c1dc-0446-45b7-baaa-c28e98ff43f4",
   "metadata": {},
   "outputs": [],
   "source": [
    "taxi.to_csv('../data/clean_data/taxi_clean_set_v1.csv')"
   ]
  },
  {
   "cell_type": "markdown",
   "id": "63fe415e-dad3-4b20-9a84-00390fbae58e",
   "metadata": {},
   "source": [
    "----\n",
    "**Conclusion**"
   ]
  },
  {
   "cell_type": "code",
   "execution_count": null,
   "id": "ed4edd22-37cf-4a78-9cc7-a63c51864448",
   "metadata": {},
   "outputs": [],
   "source": []
  },
  {
   "cell_type": "markdown",
   "id": "c28cb78d-f8d4-4fda-b7b8-71914b0631ab",
   "metadata": {},
   "source": [
    "---\n",
    "**Recommendations**"
   ]
  },
  {
   "cell_type": "code",
   "execution_count": null,
   "id": "08130d51-32b8-4f4d-a861-e207ee7275ee",
   "metadata": {},
   "outputs": [],
   "source": []
  }
 ],
 "metadata": {
  "kernelspec": {
   "display_name": "Python 3 (ipykernel)",
   "language": "python",
   "name": "python3"
  },
  "language_info": {
   "codemirror_mode": {
    "name": "ipython",
    "version": 3
   },
   "file_extension": ".py",
   "mimetype": "text/x-python",
   "name": "python",
   "nbconvert_exporter": "python",
   "pygments_lexer": "ipython3",
   "version": "3.11.10"
  }
 },
 "nbformat": 4,
 "nbformat_minor": 5
}
